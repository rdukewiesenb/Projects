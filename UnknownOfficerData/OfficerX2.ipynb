{
  "nbformat": 4,
  "nbformat_minor": 0,
  "metadata": {
    "colab": {
      "name": "OfficerX.ipynb",
      "provenance": [],
      "authorship_tag": "ABX9TyNk2BkNP3HGyHjB9+YtcDIo",
      "include_colab_link": true
    },
    "kernelspec": {
      "name": "python3",
      "display_name": "Python 3"
    }
  },
  "cells": [
    {
      "cell_type": "markdown",
      "metadata": {
        "id": "view-in-github",
        "colab_type": "text"
      },
      "source": [
        "<a href=\"https://colab.research.google.com/github/rdukewiesenb/Projects/blob/master/UnknownOfficerData/OfficerX2.ipynb\" target=\"_parent\"><img src=\"https://colab.research.google.com/assets/colab-badge.svg\" alt=\"Open In Colab\"/></a>"
      ]
    },
    {
      "cell_type": "code",
      "metadata": {
        "id": "tmWahooqPtG7",
        "colab_type": "code",
        "colab": {}
      },
      "source": [
        "import pandas as pd\n",
        "import numpy as np\n",
        "import datetime\n",
        "import time\n",
        "import matplotlib.pyplot as plt\n",
        "from scipy import stats\n",
        "import plotly.io as pio"
      ],
      "execution_count": 137,
      "outputs": []
    },
    {
      "cell_type": "code",
      "metadata": {
        "id": "PIr3Ydj1PwzI",
        "colab_type": "code",
        "colab": {
          "resources": {
            "http://localhost:8080/nbextensions/google.colab/files.js": {
              "data": "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",
              "ok": true,
              "headers": [
                [
                  "content-type",
                  "application/javascript"
                ]
              ],
              "status": 200,
              "status_text": ""
            }
          },
          "base_uri": "https://localhost:8080/",
          "height": 72
        },
        "outputId": "25e011f7-4523-47b3-872c-83c6b7faa8a0"
      },
      "source": [
        "from google.colab import files\n",
        "uploaded = files.upload()"
      ],
      "execution_count": 9,
      "outputs": [
        {
          "output_type": "display_data",
          "data": {
            "text/html": [
              "\n",
              "     <input type=\"file\" id=\"files-66e5e5e1-0f0c-444e-9c58-9d17b53fe5ff\" name=\"files[]\" multiple disabled\n",
              "        style=\"border:none\" />\n",
              "     <output id=\"result-66e5e5e1-0f0c-444e-9c58-9d17b53fe5ff\">\n",
              "      Upload widget is only available when the cell has been executed in the\n",
              "      current browser session. Please rerun this cell to enable.\n",
              "      </output>\n",
              "      <script src=\"/nbextensions/google.colab/files.js\"></script> "
            ],
            "text/plain": [
              "<IPython.core.display.HTML object>"
            ]
          },
          "metadata": {
            "tags": []
          }
        },
        {
          "output_type": "stream",
          "text": [
            "Saving yg821jf8611_sc_statewide_2020_04_01.csv.zip to yg821jf8611_sc_statewide_2020_04_01.csv.zip\n"
          ],
          "name": "stdout"
        }
      ]
    },
    {
      "cell_type": "code",
      "metadata": {
        "id": "KL4DRc9LP3lT",
        "colab_type": "code",
        "colab": {
          "base_uri": "https://localhost:8080/",
          "height": 52
        },
        "outputId": "512071d9-dc8f-431e-8b28-494a913b0902"
      },
      "source": [
        "!unzip yg821jf8611_sc_statewide_2020_04_01.csv.zip"
      ],
      "execution_count": 1,
      "outputs": [
        {
          "output_type": "stream",
          "text": [
            "Archive:  yg821jf8611_sc_statewide_2020_04_01.csv.zip\n",
            "replace sc_statewide_2020_04_01.csv? [y]es, [n]o, [A]ll, [N]one, [r]ename: "
          ],
          "name": "stdout"
        }
      ]
    },
    {
      "cell_type": "code",
      "metadata": {
        "id": "jc-6En94QHli",
        "colab_type": "code",
        "colab": {
          "base_uri": "https://localhost:8080/",
          "height": 86
        },
        "outputId": "f1f82aa3-6dd0-4bb5-e8de-35fab4ec664b"
      },
      "source": [
        "df = pd.read_csv('sc_statewide_2020_04_01.csv')"
      ],
      "execution_count": 6,
      "outputs": [
        {
          "output_type": "stream",
          "text": [
            "/usr/local/lib/python3.6/dist-packages/IPython/core/interactiveshell.py:2718: DtypeWarning:\n",
            "\n",
            "Columns (15,16) have mixed types.Specify dtype option on import or set low_memory=False.\n",
            "\n"
          ],
          "name": "stderr"
        }
      ]
    },
    {
      "cell_type": "code",
      "metadata": {
        "id": "E-ZhcikbYi58",
        "colab_type": "code",
        "colab": {
          "base_uri": "https://localhost:8080/",
          "height": 569
        },
        "outputId": "d6fa33d1-701c-443b-f2fa-9a39873f38cd"
      },
      "source": [
        "print(df.shape)\n",
        "df.head()"
      ],
      "execution_count": 7,
      "outputs": [
        {
          "output_type": "stream",
          "text": [
            "(8983810, 34)\n"
          ],
          "name": "stdout"
        },
        {
          "output_type": "execute_result",
          "data": {
            "text/html": [
              "<div>\n",
              "<style scoped>\n",
              "    .dataframe tbody tr th:only-of-type {\n",
              "        vertical-align: middle;\n",
              "    }\n",
              "\n",
              "    .dataframe tbody tr th {\n",
              "        vertical-align: top;\n",
              "    }\n",
              "\n",
              "    .dataframe thead th {\n",
              "        text-align: right;\n",
              "    }\n",
              "</style>\n",
              "<table border=\"1\" class=\"dataframe\">\n",
              "  <thead>\n",
              "    <tr style=\"text-align: right;\">\n",
              "      <th></th>\n",
              "      <th>raw_row_number</th>\n",
              "      <th>date</th>\n",
              "      <th>location</th>\n",
              "      <th>lat</th>\n",
              "      <th>lng</th>\n",
              "      <th>county_name</th>\n",
              "      <th>subject_age</th>\n",
              "      <th>subject_race</th>\n",
              "      <th>subject_sex</th>\n",
              "      <th>officer_id_hash</th>\n",
              "      <th>officer_age</th>\n",
              "      <th>officer_race</th>\n",
              "      <th>department_id</th>\n",
              "      <th>type</th>\n",
              "      <th>violation</th>\n",
              "      <th>arrest_made</th>\n",
              "      <th>citation_issued</th>\n",
              "      <th>outcome</th>\n",
              "      <th>contraband_found</th>\n",
              "      <th>contraband_drugs</th>\n",
              "      <th>contraband_weapons</th>\n",
              "      <th>contraband_alcohol</th>\n",
              "      <th>contraband_other</th>\n",
              "      <th>search_conducted</th>\n",
              "      <th>search_person</th>\n",
              "      <th>search_vehicle</th>\n",
              "      <th>reason_for_stop</th>\n",
              "      <th>raw_contact_type</th>\n",
              "      <th>raw_sex</th>\n",
              "      <th>raw_race</th>\n",
              "      <th>raw_sectionnum</th>\n",
              "      <th>raw_offensecode</th>\n",
              "      <th>raw_contrabanddesc</th>\n",
              "      <th>raw_officer_race</th>\n",
              "    </tr>\n",
              "  </thead>\n",
              "  <tbody>\n",
              "    <tr>\n",
              "      <th>0</th>\n",
              "      <td>1</td>\n",
              "      <td>2006-02-12</td>\n",
              "      <td>US Prmary 17</td>\n",
              "      <td>33.19950</td>\n",
              "      <td>-79.39269</td>\n",
              "      <td>Georgetown County</td>\n",
              "      <td>33.0</td>\n",
              "      <td>white</td>\n",
              "      <td>male</td>\n",
              "      <td>cebc4b3995</td>\n",
              "      <td>28.0</td>\n",
              "      <td>white</td>\n",
              "      <td>SCHP</td>\n",
              "      <td>vehicular</td>\n",
              "      <td>56-10-225 Other Violations</td>\n",
              "      <td>False</td>\n",
              "      <td>True</td>\n",
              "      <td>citation</td>\n",
              "      <td>NaN</td>\n",
              "      <td>NaN</td>\n",
              "      <td>NaN</td>\n",
              "      <td>NaN</td>\n",
              "      <td>NaN</td>\n",
              "      <td>False</td>\n",
              "      <td>False</td>\n",
              "      <td>False</td>\n",
              "      <td>Radar Triggered</td>\n",
              "      <td>Citation</td>\n",
              "      <td>M</td>\n",
              "      <td>White</td>\n",
              "      <td>---------</td>\n",
              "      <td>Other Violations</td>\n",
              "      <td>NaN</td>\n",
              "      <td>White</td>\n",
              "    </tr>\n",
              "    <tr>\n",
              "      <th>1</th>\n",
              "      <td>2</td>\n",
              "      <td>2007-10-17</td>\n",
              "      <td>SC Primary 86</td>\n",
              "      <td>NaN</td>\n",
              "      <td>NaN</td>\n",
              "      <td>Anderson County</td>\n",
              "      <td>17.0</td>\n",
              "      <td>white</td>\n",
              "      <td>male</td>\n",
              "      <td>ef3225d61e</td>\n",
              "      <td>34.0</td>\n",
              "      <td>white</td>\n",
              "      <td>SCHP</td>\n",
              "      <td>vehicular</td>\n",
              "      <td>NaN</td>\n",
              "      <td>False</td>\n",
              "      <td>False</td>\n",
              "      <td>NaN</td>\n",
              "      <td>NaN</td>\n",
              "      <td>NaN</td>\n",
              "      <td>NaN</td>\n",
              "      <td>NaN</td>\n",
              "      <td>NaN</td>\n",
              "      <td>False</td>\n",
              "      <td>False</td>\n",
              "      <td>False</td>\n",
              "      <td>Violation Observed</td>\n",
              "      <td>Public Contact</td>\n",
              "      <td>M</td>\n",
              "      <td>White</td>\n",
              "      <td>NaN</td>\n",
              "      <td>NaN</td>\n",
              "      <td>NaN</td>\n",
              "      <td>White</td>\n",
              "    </tr>\n",
              "    <tr>\n",
              "      <th>2</th>\n",
              "      <td>3</td>\n",
              "      <td>2007-03-20</td>\n",
              "      <td>SC Primary 11</td>\n",
              "      <td>NaN</td>\n",
              "      <td>NaN</td>\n",
              "      <td>Greenville County</td>\n",
              "      <td>68.0</td>\n",
              "      <td>white</td>\n",
              "      <td>male</td>\n",
              "      <td>808e789e5f</td>\n",
              "      <td>44.0</td>\n",
              "      <td>white</td>\n",
              "      <td>SCHP</td>\n",
              "      <td>vehicular</td>\n",
              "      <td>56-5-1520 Speeding or Too Fast For Conditions ...</td>\n",
              "      <td>False</td>\n",
              "      <td>True</td>\n",
              "      <td>citation</td>\n",
              "      <td>NaN</td>\n",
              "      <td>NaN</td>\n",
              "      <td>NaN</td>\n",
              "      <td>NaN</td>\n",
              "      <td>NaN</td>\n",
              "      <td>False</td>\n",
              "      <td>False</td>\n",
              "      <td>False</td>\n",
              "      <td>Violation Observed</td>\n",
              "      <td>Citation</td>\n",
              "      <td>M</td>\n",
              "      <td>White</td>\n",
              "      <td>---------</td>\n",
              "      <td>Speeding or Too Fast For Conditions (-- m.p.h....</td>\n",
              "      <td>NaN</td>\n",
              "      <td>White</td>\n",
              "    </tr>\n",
              "    <tr>\n",
              "      <th>3</th>\n",
              "      <td>4</td>\n",
              "      <td>2007-07-02</td>\n",
              "      <td>US Prmary 29</td>\n",
              "      <td>NaN</td>\n",
              "      <td>NaN</td>\n",
              "      <td>Spartanburg County</td>\n",
              "      <td>27.0</td>\n",
              "      <td>black</td>\n",
              "      <td>female</td>\n",
              "      <td>5df6d7974a</td>\n",
              "      <td>31.0</td>\n",
              "      <td>white</td>\n",
              "      <td>SCHP</td>\n",
              "      <td>vehicular</td>\n",
              "      <td>56-5-1520 Speeding or Too Fast For Conditions ...</td>\n",
              "      <td>False</td>\n",
              "      <td>True</td>\n",
              "      <td>citation</td>\n",
              "      <td>NaN</td>\n",
              "      <td>NaN</td>\n",
              "      <td>NaN</td>\n",
              "      <td>NaN</td>\n",
              "      <td>NaN</td>\n",
              "      <td>False</td>\n",
              "      <td>False</td>\n",
              "      <td>False</td>\n",
              "      <td>Radar Triggered</td>\n",
              "      <td>Citation</td>\n",
              "      <td>F</td>\n",
              "      <td>Black</td>\n",
              "      <td>---------</td>\n",
              "      <td>Speeding or Too Fast For Conditions (----- m.p...</td>\n",
              "      <td>NaN</td>\n",
              "      <td>White</td>\n",
              "    </tr>\n",
              "    <tr>\n",
              "      <th>4</th>\n",
              "      <td>5</td>\n",
              "      <td>2008-11-08</td>\n",
              "      <td>Interstate 20</td>\n",
              "      <td>34.20619</td>\n",
              "      <td>-79.99261</td>\n",
              "      <td>Darlington County</td>\n",
              "      <td>29.0</td>\n",
              "      <td>white</td>\n",
              "      <td>male</td>\n",
              "      <td>35d5dd2f85</td>\n",
              "      <td>32.0</td>\n",
              "      <td>black</td>\n",
              "      <td>SCHP</td>\n",
              "      <td>vehicular</td>\n",
              "      <td>56-5-1520 Speeding or Too Fast For Conditions ...</td>\n",
              "      <td>False</td>\n",
              "      <td>True</td>\n",
              "      <td>citation</td>\n",
              "      <td>NaN</td>\n",
              "      <td>NaN</td>\n",
              "      <td>NaN</td>\n",
              "      <td>NaN</td>\n",
              "      <td>NaN</td>\n",
              "      <td>False</td>\n",
              "      <td>False</td>\n",
              "      <td>False</td>\n",
              "      <td>Violation Observed</td>\n",
              "      <td>Citation</td>\n",
              "      <td>M</td>\n",
              "      <td>White</td>\n",
              "      <td>---------</td>\n",
              "      <td>Speeding or Too Fast For Conditions (----- m.p...</td>\n",
              "      <td>NaN</td>\n",
              "      <td>Black</td>\n",
              "    </tr>\n",
              "  </tbody>\n",
              "</table>\n",
              "</div>"
            ],
            "text/plain": [
              "   raw_row_number        date  ... raw_contrabanddesc  raw_officer_race\n",
              "0               1  2006-02-12  ...                NaN             White\n",
              "1               2  2007-10-17  ...                NaN             White\n",
              "2               3  2007-03-20  ...                NaN             White\n",
              "3               4  2007-07-02  ...                NaN             White\n",
              "4               5  2008-11-08  ...                NaN             Black\n",
              "\n",
              "[5 rows x 34 columns]"
            ]
          },
          "metadata": {
            "tags": []
          },
          "execution_count": 7
        }
      ]
    },
    {
      "cell_type": "code",
      "metadata": {
        "id": "DmF4ZCq5ZEqo",
        "colab_type": "code",
        "colab": {
          "base_uri": "https://localhost:8080/",
          "height": 624
        },
        "outputId": "937a6289-886f-4786-874c-0f5a23e76cb8"
      },
      "source": [
        "print(df.isnull().sum())"
      ],
      "execution_count": 8,
      "outputs": [
        {
          "output_type": "stream",
          "text": [
            "raw_row_number              0\n",
            "date                        3\n",
            "location                    1\n",
            "lat                   6880144\n",
            "lng                   6880940\n",
            "county_name               974\n",
            "subject_age              4285\n",
            "subject_race                3\n",
            "subject_sex                 3\n",
            "officer_id_hash             0\n",
            "officer_age             43451\n",
            "officer_race             4692\n",
            "department_id             121\n",
            "type                       36\n",
            "violation             3027892\n",
            "arrest_made                 5\n",
            "citation_issued             2\n",
            "outcome               3027861\n",
            "contraband_found      8733656\n",
            "contraband_drugs      8734151\n",
            "contraband_weapons    8734151\n",
            "contraband_alcohol    8983810\n",
            "contraband_other      8792932\n",
            "search_conducted            0\n",
            "search_person               0\n",
            "search_vehicle              0\n",
            "reason_for_stop            36\n",
            "raw_contact_type            2\n",
            "raw_sex                     1\n",
            "raw_race                    1\n",
            "raw_sectionnum        3028434\n",
            "raw_offensecode       3027916\n",
            "raw_contrabanddesc    8923945\n",
            "raw_officer_race         4692\n",
            "dtype: int64\n"
          ],
          "name": "stdout"
        }
      ]
    },
    {
      "cell_type": "code",
      "metadata": {
        "id": "8ePzvonnZW4M",
        "colab_type": "code",
        "colab": {}
      },
      "source": [
        "# filling in any null values\n",
        "df = df.fillna('NaN')"
      ],
      "execution_count": 9,
      "outputs": []
    },
    {
      "cell_type": "code",
      "metadata": {
        "id": "2pHG6MoDrWQ6",
        "colab_type": "code",
        "colab": {}
      },
      "source": [
        "# don't need latitude, longitude or 'raw_sectionnum'\n",
        "df = df.drop(['lat', 'lng', 'raw_sectionnum'], axis=1)"
      ],
      "execution_count": 10,
      "outputs": []
    },
    {
      "cell_type": "code",
      "metadata": {
        "id": "QieajTUEabBb",
        "colab_type": "code",
        "colab": {
          "base_uri": "https://localhost:8080/",
          "height": 572
        },
        "outputId": "808d05df-758f-426d-ac56-f336e9cdde07"
      },
      "source": [
        "# checking the types of variables we have\n",
        "df.dtypes"
      ],
      "execution_count": 16,
      "outputs": [
        {
          "output_type": "execute_result",
          "data": {
            "text/plain": [
              "raw_row_number         int64\n",
              "date                  object\n",
              "location              object\n",
              "county_name           object\n",
              "subject_age           object\n",
              "subject_race          object\n",
              "subject_sex           object\n",
              "officer_id_hash       object\n",
              "officer_age           object\n",
              "officer_race          object\n",
              "department_id         object\n",
              "type                  object\n",
              "violation             object\n",
              "arrest_made           object\n",
              "citation_issued       object\n",
              "outcome               object\n",
              "contraband_found      object\n",
              "contraband_drugs      object\n",
              "contraband_weapons    object\n",
              "contraband_alcohol    object\n",
              "contraband_other      object\n",
              "search_conducted        bool\n",
              "search_person           bool\n",
              "search_vehicle          bool\n",
              "reason_for_stop       object\n",
              "raw_contact_type      object\n",
              "raw_sex               object\n",
              "raw_race              object\n",
              "raw_offensecode       object\n",
              "raw_contrabanddesc    object\n",
              "raw_officer_race      object\n",
              "dtype: object"
            ]
          },
          "metadata": {
            "tags": []
          },
          "execution_count": 16
        }
      ]
    },
    {
      "cell_type": "code",
      "metadata": {
        "id": "fFlIYEEyEvN0",
        "colab_type": "code",
        "colab": {}
      },
      "source": [
        "# let's break up the 'date' column into individual 'year', 'month' and 'day' columns\n",
        "\n",
        "# first, we'll need to conver 'date' to datetime\n",
        "df['date'] = pd.to_datetime(df['date'], format='%Y-%m-%d')"
      ],
      "execution_count": 11,
      "outputs": []
    },
    {
      "cell_type": "code",
      "metadata": {
        "id": "dF75VcEfFlKD",
        "colab_type": "code",
        "colab": {
          "base_uri": "https://localhost:8080/",
          "height": 121
        },
        "outputId": "1f68eb43-34f8-458c-e88e-5bb7ac229ddb"
      },
      "source": [
        "# let's check to make sure it worked\n",
        "\n",
        "df['date'].head()"
      ],
      "execution_count": 12,
      "outputs": [
        {
          "output_type": "execute_result",
          "data": {
            "text/plain": [
              "0   2006-02-12\n",
              "1   2007-10-17\n",
              "2   2007-03-20\n",
              "3   2007-07-02\n",
              "4   2008-11-08\n",
              "Name: date, dtype: datetime64[ns]"
            ]
          },
          "metadata": {
            "tags": []
          },
          "execution_count": 12
        }
      ]
    },
    {
      "cell_type": "code",
      "metadata": {
        "id": "WB73amSXEBBa",
        "colab_type": "code",
        "colab": {}
      },
      "source": [
        "# and then we can actually break up the columns\n",
        "df['year'] = df['date'].dt.year\n",
        "df['month'] = df['date'].dt.month\n",
        "df['day'] = df['date'].dt.day"
      ],
      "execution_count": 13,
      "outputs": []
    },
    {
      "cell_type": "code",
      "metadata": {
        "id": "GRmB18t9Fw1C",
        "colab_type": "code",
        "colab": {
          "base_uri": "https://localhost:8080/",
          "height": 569
        },
        "outputId": "ec7c5a9e-59bb-416c-9776-4843de931b6b"
      },
      "source": [
        "# check: is it there? Yes!\n",
        "print(df.shape)\n",
        "df.head()"
      ],
      "execution_count": 20,
      "outputs": [
        {
          "output_type": "stream",
          "text": [
            "(8983810, 37)\n"
          ],
          "name": "stdout"
        },
        {
          "output_type": "execute_result",
          "data": {
            "text/html": [
              "<div>\n",
              "<style scoped>\n",
              "    .dataframe tbody tr th:only-of-type {\n",
              "        vertical-align: middle;\n",
              "    }\n",
              "\n",
              "    .dataframe tbody tr th {\n",
              "        vertical-align: top;\n",
              "    }\n",
              "\n",
              "    .dataframe thead th {\n",
              "        text-align: right;\n",
              "    }\n",
              "</style>\n",
              "<table border=\"1\" class=\"dataframe\">\n",
              "  <thead>\n",
              "    <tr style=\"text-align: right;\">\n",
              "      <th></th>\n",
              "      <th>raw_row_number</th>\n",
              "      <th>date</th>\n",
              "      <th>location</th>\n",
              "      <th>lat</th>\n",
              "      <th>lng</th>\n",
              "      <th>county_name</th>\n",
              "      <th>subject_age</th>\n",
              "      <th>subject_race</th>\n",
              "      <th>subject_sex</th>\n",
              "      <th>officer_id_hash</th>\n",
              "      <th>officer_age</th>\n",
              "      <th>officer_race</th>\n",
              "      <th>department_id</th>\n",
              "      <th>type</th>\n",
              "      <th>violation</th>\n",
              "      <th>arrest_made</th>\n",
              "      <th>citation_issued</th>\n",
              "      <th>outcome</th>\n",
              "      <th>contraband_found</th>\n",
              "      <th>contraband_drugs</th>\n",
              "      <th>contraband_weapons</th>\n",
              "      <th>contraband_alcohol</th>\n",
              "      <th>contraband_other</th>\n",
              "      <th>search_conducted</th>\n",
              "      <th>search_person</th>\n",
              "      <th>search_vehicle</th>\n",
              "      <th>reason_for_stop</th>\n",
              "      <th>raw_contact_type</th>\n",
              "      <th>raw_sex</th>\n",
              "      <th>raw_race</th>\n",
              "      <th>raw_sectionnum</th>\n",
              "      <th>raw_offensecode</th>\n",
              "      <th>raw_contrabanddesc</th>\n",
              "      <th>raw_officer_race</th>\n",
              "      <th>year</th>\n",
              "      <th>month</th>\n",
              "      <th>day</th>\n",
              "    </tr>\n",
              "  </thead>\n",
              "  <tbody>\n",
              "    <tr>\n",
              "      <th>0</th>\n",
              "      <td>1</td>\n",
              "      <td>2006-02-12</td>\n",
              "      <td>US Prmary 17</td>\n",
              "      <td>33.1995</td>\n",
              "      <td>-79.3927</td>\n",
              "      <td>Georgetown County</td>\n",
              "      <td>33</td>\n",
              "      <td>white</td>\n",
              "      <td>male</td>\n",
              "      <td>cebc4b3995</td>\n",
              "      <td>28</td>\n",
              "      <td>white</td>\n",
              "      <td>SCHP</td>\n",
              "      <td>vehicular</td>\n",
              "      <td>56-10-225 Other Violations</td>\n",
              "      <td>False</td>\n",
              "      <td>True</td>\n",
              "      <td>citation</td>\n",
              "      <td>NaN</td>\n",
              "      <td>NaN</td>\n",
              "      <td>NaN</td>\n",
              "      <td>NaN</td>\n",
              "      <td>NaN</td>\n",
              "      <td>False</td>\n",
              "      <td>False</td>\n",
              "      <td>False</td>\n",
              "      <td>Radar Triggered</td>\n",
              "      <td>Citation</td>\n",
              "      <td>M</td>\n",
              "      <td>White</td>\n",
              "      <td>---------</td>\n",
              "      <td>Other Violations</td>\n",
              "      <td>NaN</td>\n",
              "      <td>White</td>\n",
              "      <td>2006.0</td>\n",
              "      <td>2.0</td>\n",
              "      <td>12.0</td>\n",
              "    </tr>\n",
              "    <tr>\n",
              "      <th>1</th>\n",
              "      <td>2</td>\n",
              "      <td>2007-10-17</td>\n",
              "      <td>SC Primary 86</td>\n",
              "      <td>NaN</td>\n",
              "      <td>NaN</td>\n",
              "      <td>Anderson County</td>\n",
              "      <td>17</td>\n",
              "      <td>white</td>\n",
              "      <td>male</td>\n",
              "      <td>ef3225d61e</td>\n",
              "      <td>34</td>\n",
              "      <td>white</td>\n",
              "      <td>SCHP</td>\n",
              "      <td>vehicular</td>\n",
              "      <td>NaN</td>\n",
              "      <td>False</td>\n",
              "      <td>False</td>\n",
              "      <td>NaN</td>\n",
              "      <td>NaN</td>\n",
              "      <td>NaN</td>\n",
              "      <td>NaN</td>\n",
              "      <td>NaN</td>\n",
              "      <td>NaN</td>\n",
              "      <td>False</td>\n",
              "      <td>False</td>\n",
              "      <td>False</td>\n",
              "      <td>Violation Observed</td>\n",
              "      <td>Public Contact</td>\n",
              "      <td>M</td>\n",
              "      <td>White</td>\n",
              "      <td>NaN</td>\n",
              "      <td>NaN</td>\n",
              "      <td>NaN</td>\n",
              "      <td>White</td>\n",
              "      <td>2007.0</td>\n",
              "      <td>10.0</td>\n",
              "      <td>17.0</td>\n",
              "    </tr>\n",
              "    <tr>\n",
              "      <th>2</th>\n",
              "      <td>3</td>\n",
              "      <td>2007-03-20</td>\n",
              "      <td>SC Primary 11</td>\n",
              "      <td>NaN</td>\n",
              "      <td>NaN</td>\n",
              "      <td>Greenville County</td>\n",
              "      <td>68</td>\n",
              "      <td>white</td>\n",
              "      <td>male</td>\n",
              "      <td>808e789e5f</td>\n",
              "      <td>44</td>\n",
              "      <td>white</td>\n",
              "      <td>SCHP</td>\n",
              "      <td>vehicular</td>\n",
              "      <td>56-5-1520 Speeding or Too Fast For Conditions ...</td>\n",
              "      <td>False</td>\n",
              "      <td>True</td>\n",
              "      <td>citation</td>\n",
              "      <td>NaN</td>\n",
              "      <td>NaN</td>\n",
              "      <td>NaN</td>\n",
              "      <td>NaN</td>\n",
              "      <td>NaN</td>\n",
              "      <td>False</td>\n",
              "      <td>False</td>\n",
              "      <td>False</td>\n",
              "      <td>Violation Observed</td>\n",
              "      <td>Citation</td>\n",
              "      <td>M</td>\n",
              "      <td>White</td>\n",
              "      <td>---------</td>\n",
              "      <td>Speeding or Too Fast For Conditions (-- m.p.h....</td>\n",
              "      <td>NaN</td>\n",
              "      <td>White</td>\n",
              "      <td>2007.0</td>\n",
              "      <td>3.0</td>\n",
              "      <td>20.0</td>\n",
              "    </tr>\n",
              "    <tr>\n",
              "      <th>3</th>\n",
              "      <td>4</td>\n",
              "      <td>2007-07-02</td>\n",
              "      <td>US Prmary 29</td>\n",
              "      <td>NaN</td>\n",
              "      <td>NaN</td>\n",
              "      <td>Spartanburg County</td>\n",
              "      <td>27</td>\n",
              "      <td>black</td>\n",
              "      <td>female</td>\n",
              "      <td>5df6d7974a</td>\n",
              "      <td>31</td>\n",
              "      <td>white</td>\n",
              "      <td>SCHP</td>\n",
              "      <td>vehicular</td>\n",
              "      <td>56-5-1520 Speeding or Too Fast For Conditions ...</td>\n",
              "      <td>False</td>\n",
              "      <td>True</td>\n",
              "      <td>citation</td>\n",
              "      <td>NaN</td>\n",
              "      <td>NaN</td>\n",
              "      <td>NaN</td>\n",
              "      <td>NaN</td>\n",
              "      <td>NaN</td>\n",
              "      <td>False</td>\n",
              "      <td>False</td>\n",
              "      <td>False</td>\n",
              "      <td>Radar Triggered</td>\n",
              "      <td>Citation</td>\n",
              "      <td>F</td>\n",
              "      <td>Black</td>\n",
              "      <td>---------</td>\n",
              "      <td>Speeding or Too Fast For Conditions (----- m.p...</td>\n",
              "      <td>NaN</td>\n",
              "      <td>White</td>\n",
              "      <td>2007.0</td>\n",
              "      <td>7.0</td>\n",
              "      <td>2.0</td>\n",
              "    </tr>\n",
              "    <tr>\n",
              "      <th>4</th>\n",
              "      <td>5</td>\n",
              "      <td>2008-11-08</td>\n",
              "      <td>Interstate 20</td>\n",
              "      <td>34.2062</td>\n",
              "      <td>-79.9926</td>\n",
              "      <td>Darlington County</td>\n",
              "      <td>29</td>\n",
              "      <td>white</td>\n",
              "      <td>male</td>\n",
              "      <td>35d5dd2f85</td>\n",
              "      <td>32</td>\n",
              "      <td>black</td>\n",
              "      <td>SCHP</td>\n",
              "      <td>vehicular</td>\n",
              "      <td>56-5-1520 Speeding or Too Fast For Conditions ...</td>\n",
              "      <td>False</td>\n",
              "      <td>True</td>\n",
              "      <td>citation</td>\n",
              "      <td>NaN</td>\n",
              "      <td>NaN</td>\n",
              "      <td>NaN</td>\n",
              "      <td>NaN</td>\n",
              "      <td>NaN</td>\n",
              "      <td>False</td>\n",
              "      <td>False</td>\n",
              "      <td>False</td>\n",
              "      <td>Violation Observed</td>\n",
              "      <td>Citation</td>\n",
              "      <td>M</td>\n",
              "      <td>White</td>\n",
              "      <td>---------</td>\n",
              "      <td>Speeding or Too Fast For Conditions (----- m.p...</td>\n",
              "      <td>NaN</td>\n",
              "      <td>Black</td>\n",
              "      <td>2008.0</td>\n",
              "      <td>11.0</td>\n",
              "      <td>8.0</td>\n",
              "    </tr>\n",
              "  </tbody>\n",
              "</table>\n",
              "</div>"
            ],
            "text/plain": [
              "   raw_row_number       date       location  ...    year month   day\n",
              "0               1 2006-02-12   US Prmary 17  ...  2006.0   2.0  12.0\n",
              "1               2 2007-10-17  SC Primary 86  ...  2007.0  10.0  17.0\n",
              "2               3 2007-03-20  SC Primary 11  ...  2007.0   3.0  20.0\n",
              "3               4 2007-07-02   US Prmary 29  ...  2007.0   7.0   2.0\n",
              "4               5 2008-11-08  Interstate 20  ...  2008.0  11.0   8.0\n",
              "\n",
              "[5 rows x 37 columns]"
            ]
          },
          "metadata": {
            "tags": []
          },
          "execution_count": 20
        }
      ]
    },
    {
      "cell_type": "code",
      "metadata": {
        "id": "XJTDx4lIZcuz",
        "colab_type": "code",
        "colab": {
          "base_uri": "https://localhost:8080/",
          "height": 242
        },
        "outputId": "cf44c9dc-a41d-46f5-b7bc-381c25d2c35a"
      },
      "source": [
        "df['reason_for_stop'].value_counts()"
      ],
      "execution_count": 133,
      "outputs": [
        {
          "output_type": "execute_result",
          "data": {
            "text/plain": [
              "Violation Observed     6763255\n",
              "Radar Triggered        1476697\n",
              "Collision               498214\n",
              "SW Enforcement           86852\n",
              "Inspection               74783\n",
              "Pedestrian               44662\n",
              "Inquiry                  25645\n",
              "Bolo Follow Up            5483\n",
              "Incident                  4557\n",
              "Suspicious Activity       3624\n",
              "NaN                         36\n",
              "-                            2\n",
              "Name: reason_for_stop, dtype: int64"
            ]
          },
          "metadata": {
            "tags": []
          },
          "execution_count": 133
        }
      ]
    },
    {
      "cell_type": "code",
      "metadata": {
        "id": "W1NOrLRa7da1",
        "colab_type": "code",
        "colab": {
          "base_uri": "https://localhost:8080/",
          "height": 138
        },
        "outputId": "08eea42b-4b2b-4fc7-9051-eab16faf2c07"
      },
      "source": [
        "# checking all racial demographics\n",
        "df['subject_race'].value_counts()"
      ],
      "execution_count": 41,
      "outputs": [
        {
          "output_type": "execute_result",
          "data": {
            "text/plain": [
              "white       5564909\n",
              "black       2942644\n",
              "hispanic     376969\n",
              "other         97123\n",
              "unknown        2162\n",
              "NaN               3\n",
              "Name: subject_race, dtype: int64"
            ]
          },
          "metadata": {
            "tags": []
          },
          "execution_count": 41
        }
      ]
    },
    {
      "cell_type": "code",
      "metadata": {
        "id": "l7eVSNcORZaw",
        "colab_type": "code",
        "colab": {}
      },
      "source": [
        "# and we'll convert the year into a string so that we can filter later on\n",
        "# df['year'] = df['year'].astype(str).astype(float)"
      ],
      "execution_count": 61,
      "outputs": []
    },
    {
      "cell_type": "code",
      "metadata": {
        "id": "g5nEDR-AY_dn",
        "colab_type": "code",
        "colab": {
          "base_uri": "https://localhost:8080/",
          "height": 34
        },
        "outputId": "fd6f233e-7304-4ff6-9281-1c9ad811ecea"
      },
      "source": [
        "df['officer_id_hash'].nunique()"
      ],
      "execution_count": 131,
      "outputs": [
        {
          "output_type": "execute_result",
          "data": {
            "text/plain": [
              "1827"
            ]
          },
          "metadata": {
            "tags": []
          },
          "execution_count": 131
        }
      ]
    },
    {
      "cell_type": "code",
      "metadata": {
        "id": "JpOWLDLwbowd",
        "colab_type": "code",
        "colab": {
          "base_uri": "https://localhost:8080/",
          "height": 225
        },
        "outputId": "766bacf4-c2d9-4e00-88e8-9f0816484e1f"
      },
      "source": [
        "# the column 'officer_id_hash' lists all state patrol officers (who made arrests?)\n",
        "# let's see who's been making the most arrests\n",
        "# (the number of times that a hash id appears equals the number of arrests)\n",
        "\n",
        "# woooooooow, officer 979aad30f8  made 28,884 arrests\n",
        "\n",
        "df['officer_id_hash'].value_counts()"
      ],
      "execution_count": 10,
      "outputs": [
        {
          "output_type": "execute_result",
          "data": {
            "text/plain": [
              "979aad30f8    28884\n",
              "d8bde075a9    25722\n",
              "02bcb96498    24245\n",
              "2bce550242    24204\n",
              "147e11d643    24021\n",
              "              ...  \n",
              "039702c03a        1\n",
              "8112924839        1\n",
              "0ba29539a8        1\n",
              "156e828756        1\n",
              "cab2c79b14        1\n",
              "Name: officer_id_hash, Length: 1827, dtype: int64"
            ]
          },
          "metadata": {
            "tags": []
          },
          "execution_count": 10
        }
      ]
    },
    {
      "cell_type": "code",
      "metadata": {
        "id": "99TO0WS_8dBq",
        "colab_type": "code",
        "colab": {
          "base_uri": "https://localhost:8080/",
          "height": 500
        },
        "outputId": "73730385-fbcf-4dee-b636-7d8697820313"
      },
      "source": [
        "# we're going to examine who the officer with the most arrests is, and as much info about him as possible.\n",
        "# we'll call him Officer X\n",
        "# what we've found out so far:\n",
        "  # the officer is white\n",
        "  # his arrests are predominantly white; he has arrested ~3,000 more white people than Black people\n",
        "  # his arrests are predominantly male; he has arrested ~8,000 more men than women\n",
        "officer1 = df['officer_id_hash'].str.contains(\"979aad30f8\")\n",
        "officer_main = df[officer1]\n",
        "print(officer_main.shape)\n",
        "officer_main.head()"
      ],
      "execution_count": 14,
      "outputs": [
        {
          "output_type": "stream",
          "text": [
            "(28884, 34)\n"
          ],
          "name": "stdout"
        },
        {
          "output_type": "execute_result",
          "data": {
            "text/html": [
              "<div>\n",
              "<style scoped>\n",
              "    .dataframe tbody tr th:only-of-type {\n",
              "        vertical-align: middle;\n",
              "    }\n",
              "\n",
              "    .dataframe tbody tr th {\n",
              "        vertical-align: top;\n",
              "    }\n",
              "\n",
              "    .dataframe thead th {\n",
              "        text-align: right;\n",
              "    }\n",
              "</style>\n",
              "<table border=\"1\" class=\"dataframe\">\n",
              "  <thead>\n",
              "    <tr style=\"text-align: right;\">\n",
              "      <th></th>\n",
              "      <th>raw_row_number</th>\n",
              "      <th>date</th>\n",
              "      <th>location</th>\n",
              "      <th>county_name</th>\n",
              "      <th>subject_age</th>\n",
              "      <th>subject_race</th>\n",
              "      <th>subject_sex</th>\n",
              "      <th>officer_id_hash</th>\n",
              "      <th>officer_age</th>\n",
              "      <th>officer_race</th>\n",
              "      <th>department_id</th>\n",
              "      <th>type</th>\n",
              "      <th>violation</th>\n",
              "      <th>arrest_made</th>\n",
              "      <th>citation_issued</th>\n",
              "      <th>outcome</th>\n",
              "      <th>contraband_found</th>\n",
              "      <th>contraband_drugs</th>\n",
              "      <th>contraband_weapons</th>\n",
              "      <th>contraband_alcohol</th>\n",
              "      <th>contraband_other</th>\n",
              "      <th>search_conducted</th>\n",
              "      <th>search_person</th>\n",
              "      <th>search_vehicle</th>\n",
              "      <th>reason_for_stop</th>\n",
              "      <th>raw_contact_type</th>\n",
              "      <th>raw_sex</th>\n",
              "      <th>raw_race</th>\n",
              "      <th>raw_offensecode</th>\n",
              "      <th>raw_contrabanddesc</th>\n",
              "      <th>raw_officer_race</th>\n",
              "      <th>year</th>\n",
              "      <th>month</th>\n",
              "      <th>day</th>\n",
              "    </tr>\n",
              "  </thead>\n",
              "  <tbody>\n",
              "    <tr>\n",
              "      <th>398</th>\n",
              "      <td>399</td>\n",
              "      <td>2011-02-26</td>\n",
              "      <td>Interstate 20</td>\n",
              "      <td>Darlington County</td>\n",
              "      <td>20</td>\n",
              "      <td>black</td>\n",
              "      <td>female</td>\n",
              "      <td>979aad30f8</td>\n",
              "      <td>35</td>\n",
              "      <td>white</td>\n",
              "      <td>SCHP</td>\n",
              "      <td>vehicular</td>\n",
              "      <td>56-5-1520 Speeding or Too Fast For Conditions ...</td>\n",
              "      <td>False</td>\n",
              "      <td>True</td>\n",
              "      <td>citation</td>\n",
              "      <td>NaN</td>\n",
              "      <td>NaN</td>\n",
              "      <td>NaN</td>\n",
              "      <td>NaN</td>\n",
              "      <td>NaN</td>\n",
              "      <td>False</td>\n",
              "      <td>False</td>\n",
              "      <td>False</td>\n",
              "      <td>Violation Observed</td>\n",
              "      <td>Citation</td>\n",
              "      <td>F</td>\n",
              "      <td>Black</td>\n",
              "      <td>Speeding or Too Fast For Conditions (-- m.p.h....</td>\n",
              "      <td>NaN</td>\n",
              "      <td>White</td>\n",
              "      <td>2011.0</td>\n",
              "      <td>2.0</td>\n",
              "      <td>26.0</td>\n",
              "    </tr>\n",
              "    <tr>\n",
              "      <th>1065</th>\n",
              "      <td>1066</td>\n",
              "      <td>2016-05-26</td>\n",
              "      <td>Interstate 20</td>\n",
              "      <td>Lee County</td>\n",
              "      <td>27</td>\n",
              "      <td>black</td>\n",
              "      <td>male</td>\n",
              "      <td>979aad30f8</td>\n",
              "      <td>41</td>\n",
              "      <td>white</td>\n",
              "      <td>SCHP</td>\n",
              "      <td>vehicular</td>\n",
              "      <td>56-5-6520 Other Violations</td>\n",
              "      <td>False</td>\n",
              "      <td>True</td>\n",
              "      <td>citation</td>\n",
              "      <td>NaN</td>\n",
              "      <td>NaN</td>\n",
              "      <td>NaN</td>\n",
              "      <td>NaN</td>\n",
              "      <td>NaN</td>\n",
              "      <td>False</td>\n",
              "      <td>False</td>\n",
              "      <td>False</td>\n",
              "      <td>Violation Observed</td>\n",
              "      <td>Citation</td>\n",
              "      <td>M</td>\n",
              "      <td>Black</td>\n",
              "      <td>Other Violations</td>\n",
              "      <td>NaN</td>\n",
              "      <td>White</td>\n",
              "      <td>2016.0</td>\n",
              "      <td>5.0</td>\n",
              "      <td>26.0</td>\n",
              "    </tr>\n",
              "    <tr>\n",
              "      <th>1270</th>\n",
              "      <td>1271</td>\n",
              "      <td>2012-07-09</td>\n",
              "      <td>US Prmary 76</td>\n",
              "      <td>Sumter County</td>\n",
              "      <td>31</td>\n",
              "      <td>white</td>\n",
              "      <td>female</td>\n",
              "      <td>979aad30f8</td>\n",
              "      <td>37</td>\n",
              "      <td>white</td>\n",
              "      <td>SCHP</td>\n",
              "      <td>vehicular</td>\n",
              "      <td>NaN</td>\n",
              "      <td>False</td>\n",
              "      <td>False</td>\n",
              "      <td>NaN</td>\n",
              "      <td>NaN</td>\n",
              "      <td>NaN</td>\n",
              "      <td>NaN</td>\n",
              "      <td>NaN</td>\n",
              "      <td>NaN</td>\n",
              "      <td>False</td>\n",
              "      <td>False</td>\n",
              "      <td>False</td>\n",
              "      <td>Violation Observed</td>\n",
              "      <td>Public Contact</td>\n",
              "      <td>F</td>\n",
              "      <td>White</td>\n",
              "      <td>NaN</td>\n",
              "      <td>NaN</td>\n",
              "      <td>White</td>\n",
              "      <td>2012.0</td>\n",
              "      <td>7.0</td>\n",
              "      <td>9.0</td>\n",
              "    </tr>\n",
              "    <tr>\n",
              "      <th>1350</th>\n",
              "      <td>1351</td>\n",
              "      <td>2014-05-22</td>\n",
              "      <td>Interstate 20</td>\n",
              "      <td>Lee County</td>\n",
              "      <td>32</td>\n",
              "      <td>black</td>\n",
              "      <td>male</td>\n",
              "      <td>979aad30f8</td>\n",
              "      <td>39</td>\n",
              "      <td>white</td>\n",
              "      <td>SCHP</td>\n",
              "      <td>vehicular</td>\n",
              "      <td>NaN</td>\n",
              "      <td>False</td>\n",
              "      <td>False</td>\n",
              "      <td>NaN</td>\n",
              "      <td>NaN</td>\n",
              "      <td>NaN</td>\n",
              "      <td>NaN</td>\n",
              "      <td>NaN</td>\n",
              "      <td>NaN</td>\n",
              "      <td>False</td>\n",
              "      <td>False</td>\n",
              "      <td>False</td>\n",
              "      <td>Violation Observed</td>\n",
              "      <td>Public Contact</td>\n",
              "      <td>M</td>\n",
              "      <td>Black</td>\n",
              "      <td>NaN</td>\n",
              "      <td>NaN</td>\n",
              "      <td>White</td>\n",
              "      <td>2014.0</td>\n",
              "      <td>5.0</td>\n",
              "      <td>22.0</td>\n",
              "    </tr>\n",
              "    <tr>\n",
              "      <th>1540</th>\n",
              "      <td>1541</td>\n",
              "      <td>2005-06-19</td>\n",
              "      <td>Interstate 20</td>\n",
              "      <td>Lee County</td>\n",
              "      <td>28</td>\n",
              "      <td>white</td>\n",
              "      <td>male</td>\n",
              "      <td>979aad30f8</td>\n",
              "      <td>30</td>\n",
              "      <td>white</td>\n",
              "      <td>SCHP</td>\n",
              "      <td>vehicular</td>\n",
              "      <td>56-5-1520 Speeding or Too Fast For Conditions ...</td>\n",
              "      <td>False</td>\n",
              "      <td>True</td>\n",
              "      <td>citation</td>\n",
              "      <td>NaN</td>\n",
              "      <td>NaN</td>\n",
              "      <td>NaN</td>\n",
              "      <td>NaN</td>\n",
              "      <td>NaN</td>\n",
              "      <td>False</td>\n",
              "      <td>False</td>\n",
              "      <td>False</td>\n",
              "      <td>Violation Observed</td>\n",
              "      <td>Citation</td>\n",
              "      <td>M</td>\n",
              "      <td>White</td>\n",
              "      <td>Speeding or Too Fast For Conditions (-- m.p.h....</td>\n",
              "      <td>NaN</td>\n",
              "      <td>White</td>\n",
              "      <td>2005.0</td>\n",
              "      <td>6.0</td>\n",
              "      <td>19.0</td>\n",
              "    </tr>\n",
              "  </tbody>\n",
              "</table>\n",
              "</div>"
            ],
            "text/plain": [
              "      raw_row_number       date       location  ...    year month   day\n",
              "398              399 2011-02-26  Interstate 20  ...  2011.0   2.0  26.0\n",
              "1065            1066 2016-05-26  Interstate 20  ...  2016.0   5.0  26.0\n",
              "1270            1271 2012-07-09   US Prmary 76  ...  2012.0   7.0   9.0\n",
              "1350            1351 2014-05-22  Interstate 20  ...  2014.0   5.0  22.0\n",
              "1540            1541 2005-06-19  Interstate 20  ...  2005.0   6.0  19.0\n",
              "\n",
              "[5 rows x 34 columns]"
            ]
          },
          "metadata": {
            "tags": []
          },
          "execution_count": 14
        }
      ]
    },
    {
      "cell_type": "code",
      "metadata": {
        "id": "Q5FwpAfg2w6j",
        "colab_type": "code",
        "colab": {
          "base_uri": "https://localhost:8080/",
          "height": 52
        },
        "outputId": "07248b03-8552-4403-e71d-06e1a787e2dd"
      },
      "source": [
        "# where has he made arrests?\n",
        "\n",
        "print(\"Total number of unique arrest counties: \", officer_main['county_name'].nunique())\n",
        "print(\"Total number of unique arrest locations: \", officer_main['location'].nunique())"
      ],
      "execution_count": 110,
      "outputs": [
        {
          "output_type": "stream",
          "text": [
            "Total number of unique arrest counties:  11\n",
            "Total number of unique arrest locations:  357\n"
          ],
          "name": "stdout"
        }
      ]
    },
    {
      "cell_type": "code",
      "metadata": {
        "id": "TknKu1G9sVW8",
        "colab_type": "code",
        "colab": {
          "base_uri": "https://localhost:8080/",
          "height": 225
        },
        "outputId": "9849ea94-cbea-4145-cb6b-e8b35d60e5b1"
      },
      "source": [
        "# Where did he make the most arrests?\n",
        "  # Interstate 20\n",
        "officer_main['location'].value_counts()"
      ],
      "execution_count": 111,
      "outputs": [
        {
          "output_type": "execute_result",
          "data": {
            "text/plain": [
              "Interstate 20            9220\n",
              "US Prmary 15             3108\n",
              "US Prmary 1              2129\n",
              "SC Primary 151           1967\n",
              "US Prmary 521             961\n",
              "                         ... \n",
              "Secondary 199               1\n",
              "County two notch road       1\n",
              "Secondary 482               1\n",
              "Secondary 306               1\n",
              "Secondary 545               1\n",
              "Name: location, Length: 357, dtype: int64"
            ]
          },
          "metadata": {
            "tags": []
          },
          "execution_count": 111
        }
      ]
    },
    {
      "cell_type": "code",
      "metadata": {
        "id": "GkN5VZm_Uu1m",
        "colab_type": "code",
        "colab": {
          "base_uri": "https://localhost:8080/",
          "height": 225
        },
        "outputId": "ebb98d44-ae49-42ba-b3a0-7fb0c9fddbe6"
      },
      "source": [
        "# In what counties did he make the most arrests?\n",
        "  # Darlington\n",
        "  # Lee\n",
        "  # Kershaw\n",
        "  # Marlboro\n",
        "  # Sumter\n",
        "\n",
        "officer_main['county_name'].value_counts()"
      ],
      "execution_count": 112,
      "outputs": [
        {
          "output_type": "execute_result",
          "data": {
            "text/plain": [
              "Darlington County    12232\n",
              "Lee County            7312\n",
              "Kershaw County        6848\n",
              "Marlboro County       1494\n",
              "Sumter County          658\n",
              "Richland County        112\n",
              "Horry County           103\n",
              "Dillion County          61\n",
              "Marion County           57\n",
              "Claredon County          6\n",
              "NaN                      1\n",
              "Name: county_name, dtype: int64"
            ]
          },
          "metadata": {
            "tags": []
          },
          "execution_count": 112
        }
      ]
    },
    {
      "cell_type": "code",
      "metadata": {
        "id": "zMqX6z33qho2",
        "colab_type": "code",
        "colab": {
          "base_uri": "https://localhost:8080/",
          "height": 225
        },
        "outputId": "a4f4aaf3-6b89-4728-9b16-075c6c4eb57c"
      },
      "source": [
        "# his current age\n",
        "# Officer X's last arrest was made in 2016, when he is recorded as 41\n",
        "# So, in 2020, he is around 45 years old (of course, this depends on his birthday)\n",
        "officer_main['officer_age'].sort_values()"
      ],
      "execution_count": 113,
      "outputs": [
        {
          "output_type": "execute_result",
          "data": {
            "text/plain": [
              "4430537    29\n",
              "8461555    29\n",
              "7261413    29\n",
              "5457556    29\n",
              "2332682    29\n",
              "           ..\n",
              "4484958    41\n",
              "8077803    41\n",
              "3415725    41\n",
              "3974742    41\n",
              "6097643    41\n",
              "Name: officer_age, Length: 28884, dtype: object"
            ]
          },
          "metadata": {
            "tags": []
          },
          "execution_count": 113
        }
      ]
    },
    {
      "cell_type": "code",
      "metadata": {
        "id": "ERW9UG34DBFr",
        "colab_type": "code",
        "colab": {}
      },
      "source": [
        "########## Analyzing arrest demographics throughout Officer X's career"
      ],
      "execution_count": 69,
      "outputs": []
    },
    {
      "cell_type": "code",
      "metadata": {
        "id": "qjufUT4O94tD",
        "colab_type": "code",
        "colab": {
          "base_uri": "https://localhost:8080/",
          "height": 104
        },
        "outputId": "5e0c5985-b4fd-4851-8ce0-00bd60feb054"
      },
      "source": [
        "# what's the primary race this officer has arrested during the time period?\n",
        "  # white\n",
        "officer_main['subject_race'].value_counts()"
      ],
      "execution_count": 114,
      "outputs": [
        {
          "output_type": "execute_result",
          "data": {
            "text/plain": [
              "white       16404\n",
              "black       11588\n",
              "hispanic      490\n",
              "other         402\n",
              "Name: subject_race, dtype: int64"
            ]
          },
          "metadata": {
            "tags": []
          },
          "execution_count": 114
        }
      ]
    },
    {
      "cell_type": "code",
      "metadata": {
        "id": "6uXmKzZh99vY",
        "colab_type": "code",
        "colab": {
          "base_uri": "https://localhost:8080/",
          "height": 69
        },
        "outputId": "50bcfdec-0c12-45f0-e892-5f87e7167e63"
      },
      "source": [
        "# what's the primary race this officer has arrested during the time period\n",
        "officer_main['subject_sex'].value_counts()"
      ],
      "execution_count": 115,
      "outputs": [
        {
          "output_type": "execute_result",
          "data": {
            "text/plain": [
              "male      18710\n",
              "female    10174\n",
              "Name: subject_sex, dtype: int64"
            ]
          },
          "metadata": {
            "tags": []
          },
          "execution_count": 115
        }
      ]
    },
    {
      "cell_type": "code",
      "metadata": {
        "id": "RmFrUhlYIBTN",
        "colab_type": "code",
        "colab": {
          "base_uri": "https://localhost:8080/",
          "height": 69
        },
        "outputId": "2349872c-2506-4d8f-d21c-674cafb106d1"
      },
      "source": [
        "# what about the intersection of race and gender?\n",
        "\n",
        "# white men and women\n",
        "white2 = officer_main['subject_race'].str.contains(\"white\")\n",
        "white = officer_main[white2]\n",
        "white['subject_sex'].value_counts()"
      ],
      "execution_count": 117,
      "outputs": [
        {
          "output_type": "execute_result",
          "data": {
            "text/plain": [
              "male      10958\n",
              "female     5446\n",
              "Name: subject_sex, dtype: int64"
            ]
          },
          "metadata": {
            "tags": []
          },
          "execution_count": 117
        }
      ]
    },
    {
      "cell_type": "code",
      "metadata": {
        "id": "A9YqH9BAVowQ",
        "colab_type": "code",
        "colab": {
          "base_uri": "https://localhost:8080/",
          "height": 69
        },
        "outputId": "db58e125-f23a-49fe-d1c6-04e4bb3f8693"
      },
      "source": [
        "# black men and women\n",
        "black2 = officer_main['subject_race'].str.contains(\"black\")\n",
        "black = officer_main[black2]\n",
        "black['subject_sex'].value_counts()"
      ],
      "execution_count": 74,
      "outputs": [
        {
          "output_type": "execute_result",
          "data": {
            "text/plain": [
              "male      7025\n",
              "female    4563\n",
              "Name: subject_sex, dtype: int64"
            ]
          },
          "metadata": {
            "tags": []
          },
          "execution_count": 74
        }
      ]
    },
    {
      "cell_type": "code",
      "metadata": {
        "id": "HVKfv03nVqgf",
        "colab_type": "code",
        "colab": {
          "base_uri": "https://localhost:8080/",
          "height": 69
        },
        "outputId": "4c3c05c0-7b22-42b9-86f4-5eb8c6c20605"
      },
      "source": [
        "# hispanic men and women\n",
        "hisp2 = officer_main['subject_race'].str.contains(\"hispanic\")\n",
        "hisp = officer_main[hisp2]\n",
        "hisp['subject_sex'].value_counts()"
      ],
      "execution_count": 75,
      "outputs": [
        {
          "output_type": "execute_result",
          "data": {
            "text/plain": [
              "male      421\n",
              "female     69\n",
              "Name: subject_sex, dtype: int64"
            ]
          },
          "metadata": {
            "tags": []
          },
          "execution_count": 75
        }
      ]
    },
    {
      "cell_type": "code",
      "metadata": {
        "id": "-v4XN7QJVrTh",
        "colab_type": "code",
        "colab": {
          "base_uri": "https://localhost:8080/",
          "height": 69
        },
        "outputId": "a64e9133-34d6-4246-a2c1-7464822c57a8"
      },
      "source": [
        "# other men and women\n",
        "other2 = officer_main['subject_race'].str.contains(\"other\")\n",
        "other = officer_main[other2]\n",
        "other['subject_sex'].value_counts()"
      ],
      "execution_count": 76,
      "outputs": [
        {
          "output_type": "execute_result",
          "data": {
            "text/plain": [
              "male      306\n",
              "female     96\n",
              "Name: subject_sex, dtype: int64"
            ]
          },
          "metadata": {
            "tags": []
          },
          "execution_count": 76
        }
      ]
    },
    {
      "cell_type": "code",
      "metadata": {
        "id": "UXula307h7ub",
        "colab_type": "code",
        "colab": {
          "base_uri": "https://localhost:8080/",
          "height": 208
        },
        "outputId": "a024c718-d103-47b1-c734-ba4f25416be0"
      },
      "source": [
        "!pip install plotly>=4.0.0\n",
        "!wget https://github.com/plotly/orca/releases/download/v1.2.1/orca-1.2.1-x86_64.AppImage -O /usr/local/bin/orca\n",
        "!chmod +x /usr/local/bin/orca\n",
        "!apt-get install xvfb libgtk2.0-0 libgconf-2-4"
      ],
      "execution_count": 77,
      "outputs": [
        {
          "output_type": "stream",
          "text": [
            "/usr/local/bin/orca: Text file busy\n",
            "Reading package lists... Done\n",
            "Building dependency tree       \n",
            "Reading state information... Done\n",
            "libgtk2.0-0 is already the newest version (2.24.32-1ubuntu1).\n",
            "libgconf-2-4 is already the newest version (3.2.6-4ubuntu1).\n",
            "xvfb is already the newest version (2:1.19.6-1ubuntu4.4).\n",
            "The following package was automatically installed and is no longer required:\n",
            "  libnvidia-common-440\n",
            "Use 'apt autoremove' to remove it.\n",
            "0 upgraded, 0 newly installed, 0 to remove and 35 not upgraded.\n"
          ],
          "name": "stdout"
        }
      ]
    },
    {
      "cell_type": "code",
      "metadata": {
        "id": "rNBlsb1vXGi5",
        "colab_type": "code",
        "colab": {}
      },
      "source": [
        "# plotting the data...how do they compare?\n",
        "\n",
        "import plotly.graph_objects as go\n",
        "\n",
        "race=['White', 'Black', 'Hispanic', 'Other']\n",
        "\n",
        "fig = go.Figure(data=[\n",
        "    go.Bar(name='<b>Men</b>', x=race, y=[10958, 7025, 421, 306], \n",
        "           marker_color='#2980B9'),\n",
        "    go.Bar(name='<b>Women</b>', x=race, y=[5446, 4563, 69, 96],\n",
        "          marker_color='#5DADE2')\n",
        "])\n",
        "\n",
        "# Change the bar mode\n",
        "fig.update_layout(barmode='group', title_text=\"<b>Trooper X's arrests, by race and gender (2005-2016)</b>\",\n",
        "                  xaxis_title=\"<b>Race</b>\",\n",
        "                  yaxis_title=\"<b>Number of arrests</b>\",\n",
        "                  font=dict(family=\"Courier New, monospace\", size=14,\n",
        "                  color=\"Black\"), legend=dict(yanchor=\"top\",\n",
        "                                              y=0.99, xanchor=\"left\",\n",
        "                                              x=0.7, font=dict(family=\"Courier\",\n",
        "                                                               size=30, color=\"black\")))\n",
        "\n",
        "# gotta save my plot!\n",
        "fig.write_image(\"bw_graph1.png\")\n",
        "fig.show()\n",
        "\n"
      ],
      "execution_count": null,
      "outputs": []
    },
    {
      "cell_type": "code",
      "metadata": {
        "id": "kotp9xLNDoLp",
        "colab_type": "code",
        "colab": {
          "base_uri": "https://localhost:8080/",
          "height": 17
        },
        "outputId": "52cf9e5d-ac77-4f51-9936-4ab2af24300b"
      },
      "source": [
        "from google.colab import files\n",
        "files.download('bw_graph1.png')"
      ],
      "execution_count": 79,
      "outputs": [
        {
          "output_type": "display_data",
          "data": {
            "application/javascript": [
              "\n",
              "    async function download(id, filename, size) {\n",
              "      if (!google.colab.kernel.accessAllowed) {\n",
              "        return;\n",
              "      }\n",
              "      const div = document.createElement('div');\n",
              "      const label = document.createElement('label');\n",
              "      label.textContent = `Downloading \"${filename}\": `;\n",
              "      div.appendChild(label);\n",
              "      const progress = document.createElement('progress');\n",
              "      progress.max = size;\n",
              "      div.appendChild(progress);\n",
              "      document.body.appendChild(div);\n",
              "\n",
              "      const buffers = [];\n",
              "      let downloaded = 0;\n",
              "\n",
              "      const channel = await google.colab.kernel.comms.open(id);\n",
              "      // Send a message to notify the kernel that we're ready.\n",
              "      channel.send({})\n",
              "\n",
              "      for await (const message of channel.messages) {\n",
              "        // Send a message to notify the kernel that we're ready.\n",
              "        channel.send({})\n",
              "        if (message.buffers) {\n",
              "          for (const buffer of message.buffers) {\n",
              "            buffers.push(buffer);\n",
              "            downloaded += buffer.byteLength;\n",
              "            progress.value = downloaded;\n",
              "          }\n",
              "        }\n",
              "      }\n",
              "      const blob = new Blob(buffers, {type: 'application/binary'});\n",
              "      const a = document.createElement('a');\n",
              "      a.href = window.URL.createObjectURL(blob);\n",
              "      a.download = filename;\n",
              "      div.appendChild(a);\n",
              "      a.click();\n",
              "      div.remove();\n",
              "    }\n",
              "  "
            ],
            "text/plain": [
              "<IPython.core.display.Javascript object>"
            ]
          },
          "metadata": {
            "tags": []
          }
        },
        {
          "output_type": "display_data",
          "data": {
            "application/javascript": [
              "download(\"download_88c1158f-a721-4958-9a41-cb6a651bf52a\", \"bw_graph1.png\", 32822)"
            ],
            "text/plain": [
              "<IPython.core.display.Javascript object>"
            ]
          },
          "metadata": {
            "tags": []
          }
        }
      ]
    },
    {
      "cell_type": "code",
      "metadata": {
        "id": "UdYQJu17ICPp",
        "colab_type": "code",
        "colab": {}
      },
      "source": [
        "# plotting the sex data\n",
        "fig, ax = plt.subplots()\n",
        "\n",
        "x = ['Male', 'Female']\n",
        "y = [18710, 10174]\n",
        "\n",
        "ax.bar(x, y)\n",
        "\n",
        "\n",
        "ax.set_title(\"Officer X's total arrests, by gender\", fontsize=16, fontweight=\"bold\")\n",
        "ax.set_xlabel(\"Gender\", fontsize=12, fontweight=\"bold\")\n",
        "ax.set_ylabel(\"Number of arrests (thousands)\", fontsize=11, fontweight=\"bold\")\n",
        "\n",
        "ax.set_xticklabels([\"Male\", \"Female\"], fontsize=10)\n",
        "ax.set_yticklabels([\"0\", \"2.5\", \"5\", \"7.5\", \"10\", \"12.5\", \"15\", \"17.5\"])\n",
        "\n",
        "plt.show()"
      ],
      "execution_count": null,
      "outputs": []
    },
    {
      "cell_type": "code",
      "metadata": {
        "id": "PCmUAVUiX_mt",
        "colab_type": "code",
        "colab": {}
      },
      "source": [
        "######### comparing Officer X arrests to state average"
      ],
      "execution_count": null,
      "outputs": []
    },
    {
      "cell_type": "code",
      "metadata": {
        "id": "RRQbN3HambGQ",
        "colab_type": "code",
        "colab": {
          "base_uri": "https://localhost:8080/",
          "height": 34
        },
        "outputId": "10b8f6ce-6cfd-4453-ad25-23a5c3192fc2"
      },
      "source": [
        "# the number of rows in the datadrame tells us the total number of arrests from 2005-2010\n",
        "df.shape"
      ],
      "execution_count": 15,
      "outputs": [
        {
          "output_type": "execute_result",
          "data": {
            "text/plain": [
              "(8983810, 34)"
            ]
          },
          "metadata": {
            "tags": []
          },
          "execution_count": 15
        }
      ]
    },
    {
      "cell_type": "code",
      "metadata": {
        "id": "FwlOAvktnyXJ",
        "colab_type": "code",
        "colab": {}
      },
      "source": [
        ""
      ],
      "execution_count": null,
      "outputs": []
    },
    {
      "cell_type": "code",
      "metadata": {
        "id": "JX8uQZQomh1S",
        "colab_type": "code",
        "colab": {
          "base_uri": "https://localhost:8080/",
          "height": 34
        },
        "outputId": "5a3cf37c-0657-48ee-d531-3fad41db1c97"
      },
      "source": [
        "# the number of unique officer hash ids tells us how many officers there are, \n",
        "# which we can use as the len when finding the state arrests mean\n",
        "df['officer_id_hash'].nunique()"
      ],
      "execution_count": 13,
      "outputs": [
        {
          "output_type": "execute_result",
          "data": {
            "text/plain": [
              "1827"
            ]
          },
          "metadata": {
            "tags": []
          },
          "execution_count": 13
        }
      ]
    },
    {
      "cell_type": "code",
      "metadata": {
        "id": "yBv_6HqwnICz",
        "colab_type": "code",
        "colab": {
          "base_uri": "https://localhost:8080/",
          "height": 34
        },
        "outputId": "9afe9c6b-1d09-4e43-9b90-59ce6a078b63"
      },
      "source": [
        "# state arrests mean\n",
        "  # the mean number of arrests is around 4917\n",
        "8983810 / 1827"
      ],
      "execution_count": 16,
      "outputs": [
        {
          "output_type": "execute_result",
          "data": {
            "text/plain": [
              "4917.246852764094"
            ]
          },
          "metadata": {
            "tags": []
          },
          "execution_count": 16
        }
      ]
    },
    {
      "cell_type": "code",
      "metadata": {
        "id": "ZoipBvTGBY_V",
        "colab_type": "code",
        "colab": {
          "base_uri": "https://localhost:8080/",
          "height": 242
        },
        "outputId": "71bc49a7-208a-441a-e6f8-42e3e5b1e8cd"
      },
      "source": [
        "# when did he make the most arrests?\n",
        "  # 2010\n",
        "officer_main['year'].value_counts()"
      ],
      "execution_count": 81,
      "outputs": [
        {
          "output_type": "execute_result",
          "data": {
            "text/plain": [
              "2010.0    3133\n",
              "2012.0    2906\n",
              "2011.0    2744\n",
              "2009.0    2499\n",
              "2013.0    2480\n",
              "2006.0    2470\n",
              "2015.0    2401\n",
              "2014.0    2227\n",
              "2008.0    2190\n",
              "2007.0    2158\n",
              "2005.0    2137\n",
              "2016.0    1539\n",
              "Name: year, dtype: int64"
            ]
          },
          "metadata": {
            "tags": []
          },
          "execution_count": 81
        }
      ]
    },
    {
      "cell_type": "code",
      "metadata": {
        "id": "48Op1pH4C0uo",
        "colab_type": "code",
        "colab": {}
      },
      "source": [
        "######### comparing Officer X's 2010 arrests to the state average"
      ],
      "execution_count": 84,
      "outputs": []
    },
    {
      "cell_type": "code",
      "metadata": {
        "id": "Dl-Ea65pSarr",
        "colab_type": "code",
        "colab": {
          "base_uri": "https://localhost:8080/",
          "height": 869
        },
        "outputId": "77810ef6-2968-42bb-cf31-3d308156f30c"
      },
      "source": [
        "x2010 = officer_main['year']==2010.0\n",
        "officer_main2010 = officer_main[x2010]\n",
        "officer_main2010"
      ],
      "execution_count": 15,
      "outputs": [
        {
          "output_type": "execute_result",
          "data": {
            "text/html": [
              "<div>\n",
              "<style scoped>\n",
              "    .dataframe tbody tr th:only-of-type {\n",
              "        vertical-align: middle;\n",
              "    }\n",
              "\n",
              "    .dataframe tbody tr th {\n",
              "        vertical-align: top;\n",
              "    }\n",
              "\n",
              "    .dataframe thead th {\n",
              "        text-align: right;\n",
              "    }\n",
              "</style>\n",
              "<table border=\"1\" class=\"dataframe\">\n",
              "  <thead>\n",
              "    <tr style=\"text-align: right;\">\n",
              "      <th></th>\n",
              "      <th>raw_row_number</th>\n",
              "      <th>date</th>\n",
              "      <th>location</th>\n",
              "      <th>county_name</th>\n",
              "      <th>subject_age</th>\n",
              "      <th>subject_race</th>\n",
              "      <th>subject_sex</th>\n",
              "      <th>officer_id_hash</th>\n",
              "      <th>officer_age</th>\n",
              "      <th>officer_race</th>\n",
              "      <th>department_id</th>\n",
              "      <th>type</th>\n",
              "      <th>violation</th>\n",
              "      <th>arrest_made</th>\n",
              "      <th>citation_issued</th>\n",
              "      <th>outcome</th>\n",
              "      <th>contraband_found</th>\n",
              "      <th>contraband_drugs</th>\n",
              "      <th>contraband_weapons</th>\n",
              "      <th>contraband_alcohol</th>\n",
              "      <th>contraband_other</th>\n",
              "      <th>search_conducted</th>\n",
              "      <th>search_person</th>\n",
              "      <th>search_vehicle</th>\n",
              "      <th>reason_for_stop</th>\n",
              "      <th>raw_contact_type</th>\n",
              "      <th>raw_sex</th>\n",
              "      <th>raw_race</th>\n",
              "      <th>raw_offensecode</th>\n",
              "      <th>raw_contrabanddesc</th>\n",
              "      <th>raw_officer_race</th>\n",
              "      <th>year</th>\n",
              "      <th>month</th>\n",
              "      <th>day</th>\n",
              "    </tr>\n",
              "  </thead>\n",
              "  <tbody>\n",
              "    <tr>\n",
              "      <th>2710</th>\n",
              "      <td>2711</td>\n",
              "      <td>2010-09-12</td>\n",
              "      <td>Interstate 20</td>\n",
              "      <td>Darlington County</td>\n",
              "      <td>26</td>\n",
              "      <td>white</td>\n",
              "      <td>male</td>\n",
              "      <td>979aad30f8</td>\n",
              "      <td>35</td>\n",
              "      <td>white</td>\n",
              "      <td>SCHP</td>\n",
              "      <td>vehicular</td>\n",
              "      <td>56-10-225 Other Violations</td>\n",
              "      <td>False</td>\n",
              "      <td>True</td>\n",
              "      <td>citation</td>\n",
              "      <td>NaN</td>\n",
              "      <td>NaN</td>\n",
              "      <td>NaN</td>\n",
              "      <td>NaN</td>\n",
              "      <td>NaN</td>\n",
              "      <td>False</td>\n",
              "      <td>False</td>\n",
              "      <td>False</td>\n",
              "      <td>Violation Observed</td>\n",
              "      <td>Citation</td>\n",
              "      <td>M</td>\n",
              "      <td>White</td>\n",
              "      <td>Other Violations</td>\n",
              "      <td>NaN</td>\n",
              "      <td>White</td>\n",
              "      <td>2010.0</td>\n",
              "      <td>9.0</td>\n",
              "      <td>12.0</td>\n",
              "    </tr>\n",
              "    <tr>\n",
              "      <th>6076</th>\n",
              "      <td>6077</td>\n",
              "      <td>2010-09-20</td>\n",
              "      <td>US Prmary 15</td>\n",
              "      <td>Darlington County</td>\n",
              "      <td>108</td>\n",
              "      <td>white</td>\n",
              "      <td>female</td>\n",
              "      <td>979aad30f8</td>\n",
              "      <td>35</td>\n",
              "      <td>white</td>\n",
              "      <td>SCHP</td>\n",
              "      <td>vehicular</td>\n",
              "      <td>56-5-6520 Other Violations</td>\n",
              "      <td>False</td>\n",
              "      <td>True</td>\n",
              "      <td>citation</td>\n",
              "      <td>NaN</td>\n",
              "      <td>NaN</td>\n",
              "      <td>NaN</td>\n",
              "      <td>NaN</td>\n",
              "      <td>NaN</td>\n",
              "      <td>False</td>\n",
              "      <td>False</td>\n",
              "      <td>False</td>\n",
              "      <td>Violation Observed</td>\n",
              "      <td>Citation</td>\n",
              "      <td>F</td>\n",
              "      <td>White</td>\n",
              "      <td>Other Violations</td>\n",
              "      <td>NaN</td>\n",
              "      <td>White</td>\n",
              "      <td>2010.0</td>\n",
              "      <td>9.0</td>\n",
              "      <td>20.0</td>\n",
              "    </tr>\n",
              "    <tr>\n",
              "      <th>8282</th>\n",
              "      <td>8283</td>\n",
              "      <td>2010-06-19</td>\n",
              "      <td>SC Primary 38</td>\n",
              "      <td>Marlboro County</td>\n",
              "      <td>21</td>\n",
              "      <td>white</td>\n",
              "      <td>male</td>\n",
              "      <td>979aad30f8</td>\n",
              "      <td>35</td>\n",
              "      <td>white</td>\n",
              "      <td>SCHP</td>\n",
              "      <td>vehicular</td>\n",
              "      <td>56-5-6520 Other Violations</td>\n",
              "      <td>False</td>\n",
              "      <td>True</td>\n",
              "      <td>citation</td>\n",
              "      <td>NaN</td>\n",
              "      <td>NaN</td>\n",
              "      <td>NaN</td>\n",
              "      <td>NaN</td>\n",
              "      <td>NaN</td>\n",
              "      <td>False</td>\n",
              "      <td>False</td>\n",
              "      <td>False</td>\n",
              "      <td>Violation Observed</td>\n",
              "      <td>Citation</td>\n",
              "      <td>M</td>\n",
              "      <td>White</td>\n",
              "      <td>Other Violations</td>\n",
              "      <td>NaN</td>\n",
              "      <td>White</td>\n",
              "      <td>2010.0</td>\n",
              "      <td>6.0</td>\n",
              "      <td>19.0</td>\n",
              "    </tr>\n",
              "    <tr>\n",
              "      <th>8480</th>\n",
              "      <td>8481</td>\n",
              "      <td>2010-08-15</td>\n",
              "      <td>Interstate 20</td>\n",
              "      <td>Darlington County</td>\n",
              "      <td>36</td>\n",
              "      <td>black</td>\n",
              "      <td>female</td>\n",
              "      <td>979aad30f8</td>\n",
              "      <td>35</td>\n",
              "      <td>white</td>\n",
              "      <td>SCHP</td>\n",
              "      <td>vehicular</td>\n",
              "      <td>56-5-1520 Speeding or Too Fast For Conditions ...</td>\n",
              "      <td>False</td>\n",
              "      <td>True</td>\n",
              "      <td>citation</td>\n",
              "      <td>NaN</td>\n",
              "      <td>NaN</td>\n",
              "      <td>NaN</td>\n",
              "      <td>NaN</td>\n",
              "      <td>NaN</td>\n",
              "      <td>False</td>\n",
              "      <td>False</td>\n",
              "      <td>False</td>\n",
              "      <td>Violation Observed</td>\n",
              "      <td>Citation</td>\n",
              "      <td>F</td>\n",
              "      <td>Black</td>\n",
              "      <td>Speeding or Too Fast For Conditions (----- m.p...</td>\n",
              "      <td>NaN</td>\n",
              "      <td>White</td>\n",
              "      <td>2010.0</td>\n",
              "      <td>8.0</td>\n",
              "      <td>15.0</td>\n",
              "    </tr>\n",
              "    <tr>\n",
              "      <th>12276</th>\n",
              "      <td>12277</td>\n",
              "      <td>2010-09-06</td>\n",
              "      <td>Interstate 20</td>\n",
              "      <td>Darlington County</td>\n",
              "      <td>20</td>\n",
              "      <td>white</td>\n",
              "      <td>male</td>\n",
              "      <td>979aad30f8</td>\n",
              "      <td>35</td>\n",
              "      <td>white</td>\n",
              "      <td>SCHP</td>\n",
              "      <td>vehicular</td>\n",
              "      <td>56-5-1520 Speeding or Too Fast For Conditions ...</td>\n",
              "      <td>False</td>\n",
              "      <td>True</td>\n",
              "      <td>citation</td>\n",
              "      <td>NaN</td>\n",
              "      <td>NaN</td>\n",
              "      <td>NaN</td>\n",
              "      <td>NaN</td>\n",
              "      <td>NaN</td>\n",
              "      <td>False</td>\n",
              "      <td>False</td>\n",
              "      <td>False</td>\n",
              "      <td>Violation Observed</td>\n",
              "      <td>Citation</td>\n",
              "      <td>M</td>\n",
              "      <td>White</td>\n",
              "      <td>Speeding or Too Fast For Conditions (----- m.p...</td>\n",
              "      <td>NaN</td>\n",
              "      <td>White</td>\n",
              "      <td>2010.0</td>\n",
              "      <td>9.0</td>\n",
              "      <td>6.0</td>\n",
              "    </tr>\n",
              "    <tr>\n",
              "      <th>...</th>\n",
              "      <td>...</td>\n",
              "      <td>...</td>\n",
              "      <td>...</td>\n",
              "      <td>...</td>\n",
              "      <td>...</td>\n",
              "      <td>...</td>\n",
              "      <td>...</td>\n",
              "      <td>...</td>\n",
              "      <td>...</td>\n",
              "      <td>...</td>\n",
              "      <td>...</td>\n",
              "      <td>...</td>\n",
              "      <td>...</td>\n",
              "      <td>...</td>\n",
              "      <td>...</td>\n",
              "      <td>...</td>\n",
              "      <td>...</td>\n",
              "      <td>...</td>\n",
              "      <td>...</td>\n",
              "      <td>...</td>\n",
              "      <td>...</td>\n",
              "      <td>...</td>\n",
              "      <td>...</td>\n",
              "      <td>...</td>\n",
              "      <td>...</td>\n",
              "      <td>...</td>\n",
              "      <td>...</td>\n",
              "      <td>...</td>\n",
              "      <td>...</td>\n",
              "      <td>...</td>\n",
              "      <td>...</td>\n",
              "      <td>...</td>\n",
              "      <td>...</td>\n",
              "      <td>...</td>\n",
              "    </tr>\n",
              "    <tr>\n",
              "      <th>8965541</th>\n",
              "      <td>8965542</td>\n",
              "      <td>2010-12-31</td>\n",
              "      <td>Secondary 165</td>\n",
              "      <td>Darlington County</td>\n",
              "      <td>53</td>\n",
              "      <td>white</td>\n",
              "      <td>male</td>\n",
              "      <td>979aad30f8</td>\n",
              "      <td>35</td>\n",
              "      <td>white</td>\n",
              "      <td>SCHP</td>\n",
              "      <td>vehicular</td>\n",
              "      <td>56-5-6520 Other Violations</td>\n",
              "      <td>False</td>\n",
              "      <td>True</td>\n",
              "      <td>citation</td>\n",
              "      <td>NaN</td>\n",
              "      <td>NaN</td>\n",
              "      <td>NaN</td>\n",
              "      <td>NaN</td>\n",
              "      <td>NaN</td>\n",
              "      <td>False</td>\n",
              "      <td>False</td>\n",
              "      <td>False</td>\n",
              "      <td>Violation Observed</td>\n",
              "      <td>Citation</td>\n",
              "      <td>M</td>\n",
              "      <td>White</td>\n",
              "      <td>Other Violations</td>\n",
              "      <td>NaN</td>\n",
              "      <td>White</td>\n",
              "      <td>2010.0</td>\n",
              "      <td>12.0</td>\n",
              "      <td>31.0</td>\n",
              "    </tr>\n",
              "    <tr>\n",
              "      <th>8971458</th>\n",
              "      <td>8971459</td>\n",
              "      <td>2010-10-13</td>\n",
              "      <td>Secondary 23</td>\n",
              "      <td>Darlington County</td>\n",
              "      <td>19</td>\n",
              "      <td>white</td>\n",
              "      <td>male</td>\n",
              "      <td>979aad30f8</td>\n",
              "      <td>35</td>\n",
              "      <td>white</td>\n",
              "      <td>SCHP</td>\n",
              "      <td>vehicular</td>\n",
              "      <td>56-1-460 Driving Under Suspension</td>\n",
              "      <td>True</td>\n",
              "      <td>True</td>\n",
              "      <td>arrest</td>\n",
              "      <td>NaN</td>\n",
              "      <td>NaN</td>\n",
              "      <td>NaN</td>\n",
              "      <td>NaN</td>\n",
              "      <td>NaN</td>\n",
              "      <td>False</td>\n",
              "      <td>False</td>\n",
              "      <td>False</td>\n",
              "      <td>Violation Observed</td>\n",
              "      <td>Citation</td>\n",
              "      <td>M</td>\n",
              "      <td>White</td>\n",
              "      <td>Driving Under Suspension</td>\n",
              "      <td>NaN</td>\n",
              "      <td>White</td>\n",
              "      <td>2010.0</td>\n",
              "      <td>10.0</td>\n",
              "      <td>13.0</td>\n",
              "    </tr>\n",
              "    <tr>\n",
              "      <th>8975977</th>\n",
              "      <td>8975978</td>\n",
              "      <td>2010-12-08</td>\n",
              "      <td>US Prmary 15</td>\n",
              "      <td>Darlington County</td>\n",
              "      <td>61</td>\n",
              "      <td>black</td>\n",
              "      <td>male</td>\n",
              "      <td>979aad30f8</td>\n",
              "      <td>35</td>\n",
              "      <td>white</td>\n",
              "      <td>SCHP</td>\n",
              "      <td>vehicular</td>\n",
              "      <td>56-5-6520 Other Violations</td>\n",
              "      <td>False</td>\n",
              "      <td>True</td>\n",
              "      <td>citation</td>\n",
              "      <td>NaN</td>\n",
              "      <td>NaN</td>\n",
              "      <td>NaN</td>\n",
              "      <td>NaN</td>\n",
              "      <td>NaN</td>\n",
              "      <td>False</td>\n",
              "      <td>False</td>\n",
              "      <td>False</td>\n",
              "      <td>Violation Observed</td>\n",
              "      <td>Citation</td>\n",
              "      <td>M</td>\n",
              "      <td>Black</td>\n",
              "      <td>Other Violations</td>\n",
              "      <td>NaN</td>\n",
              "      <td>White</td>\n",
              "      <td>2010.0</td>\n",
              "      <td>12.0</td>\n",
              "      <td>8.0</td>\n",
              "    </tr>\n",
              "    <tr>\n",
              "      <th>8979614</th>\n",
              "      <td>8979615</td>\n",
              "      <td>2010-05-04</td>\n",
              "      <td>US Prmary 15</td>\n",
              "      <td>Darlington County</td>\n",
              "      <td>29</td>\n",
              "      <td>white</td>\n",
              "      <td>male</td>\n",
              "      <td>979aad30f8</td>\n",
              "      <td>35</td>\n",
              "      <td>white</td>\n",
              "      <td>SCHP</td>\n",
              "      <td>vehicular</td>\n",
              "      <td>NaN</td>\n",
              "      <td>False</td>\n",
              "      <td>False</td>\n",
              "      <td>NaN</td>\n",
              "      <td>NaN</td>\n",
              "      <td>NaN</td>\n",
              "      <td>NaN</td>\n",
              "      <td>NaN</td>\n",
              "      <td>NaN</td>\n",
              "      <td>False</td>\n",
              "      <td>False</td>\n",
              "      <td>False</td>\n",
              "      <td>Violation Observed</td>\n",
              "      <td>Public Contact</td>\n",
              "      <td>M</td>\n",
              "      <td>White</td>\n",
              "      <td>NaN</td>\n",
              "      <td>NaN</td>\n",
              "      <td>White</td>\n",
              "      <td>2010.0</td>\n",
              "      <td>5.0</td>\n",
              "      <td>4.0</td>\n",
              "    </tr>\n",
              "    <tr>\n",
              "      <th>8981203</th>\n",
              "      <td>8981204</td>\n",
              "      <td>2010-09-25</td>\n",
              "      <td>Secondary 21</td>\n",
              "      <td>Darlington County</td>\n",
              "      <td>36</td>\n",
              "      <td>white</td>\n",
              "      <td>male</td>\n",
              "      <td>979aad30f8</td>\n",
              "      <td>35</td>\n",
              "      <td>white</td>\n",
              "      <td>SCHP</td>\n",
              "      <td>vehicular</td>\n",
              "      <td>NaN</td>\n",
              "      <td>False</td>\n",
              "      <td>False</td>\n",
              "      <td>NaN</td>\n",
              "      <td>NaN</td>\n",
              "      <td>NaN</td>\n",
              "      <td>NaN</td>\n",
              "      <td>NaN</td>\n",
              "      <td>NaN</td>\n",
              "      <td>False</td>\n",
              "      <td>False</td>\n",
              "      <td>False</td>\n",
              "      <td>Violation Observed</td>\n",
              "      <td>Public Contact</td>\n",
              "      <td>M</td>\n",
              "      <td>White</td>\n",
              "      <td>NaN</td>\n",
              "      <td>NaN</td>\n",
              "      <td>White</td>\n",
              "      <td>2010.0</td>\n",
              "      <td>9.0</td>\n",
              "      <td>25.0</td>\n",
              "    </tr>\n",
              "  </tbody>\n",
              "</table>\n",
              "<p>3133 rows × 34 columns</p>\n",
              "</div>"
            ],
            "text/plain": [
              "         raw_row_number       date       location  ...    year month   day\n",
              "2710               2711 2010-09-12  Interstate 20  ...  2010.0   9.0  12.0\n",
              "6076               6077 2010-09-20   US Prmary 15  ...  2010.0   9.0  20.0\n",
              "8282               8283 2010-06-19  SC Primary 38  ...  2010.0   6.0  19.0\n",
              "8480               8481 2010-08-15  Interstate 20  ...  2010.0   8.0  15.0\n",
              "12276             12277 2010-09-06  Interstate 20  ...  2010.0   9.0   6.0\n",
              "...                 ...        ...            ...  ...     ...   ...   ...\n",
              "8965541         8965542 2010-12-31  Secondary 165  ...  2010.0  12.0  31.0\n",
              "8971458         8971459 2010-10-13   Secondary 23  ...  2010.0  10.0  13.0\n",
              "8975977         8975978 2010-12-08   US Prmary 15  ...  2010.0  12.0   8.0\n",
              "8979614         8979615 2010-05-04   US Prmary 15  ...  2010.0   5.0   4.0\n",
              "8981203         8981204 2010-09-25   Secondary 21  ...  2010.0   9.0  25.0\n",
              "\n",
              "[3133 rows x 34 columns]"
            ]
          },
          "metadata": {
            "tags": []
          },
          "execution_count": 15
        }
      ]
    },
    {
      "cell_type": "code",
      "metadata": {
        "id": "n-HyosQ1cBk2",
        "colab_type": "code",
        "colab": {
          "base_uri": "https://localhost:8080/",
          "height": 104
        },
        "outputId": "2c88adf3-a76f-4194-8b74-ceccd82e9d55"
      },
      "source": [
        "officer_main['subject_race'].value_counts()"
      ],
      "execution_count": 136,
      "outputs": [
        {
          "output_type": "execute_result",
          "data": {
            "text/plain": [
              "white       16404\n",
              "black       11588\n",
              "hispanic      490\n",
              "other         402\n",
              "Name: subject_race, dtype: int64"
            ]
          },
          "metadata": {
            "tags": []
          },
          "execution_count": 136
        }
      ]
    },
    {
      "cell_type": "code",
      "metadata": {
        "id": "UdJgmDTtSrGh",
        "colab_type": "code",
        "colab": {
          "base_uri": "https://localhost:8080/",
          "height": 904
        },
        "outputId": "c534de2c-c63a-4110-b472-5f3fa5248ff0"
      },
      "source": [
        "# total 2010 arrests\n",
        "# number of rows tells us the sum\n",
        "\n",
        "is2010 =  df['year']==2010.0\n",
        "y2010 = df[is2010]\n",
        "print(y2010.shape)\n",
        "y2010"
      ],
      "execution_count": 27,
      "outputs": [
        {
          "output_type": "stream",
          "text": [
            "(852048, 34)\n"
          ],
          "name": "stdout"
        },
        {
          "output_type": "execute_result",
          "data": {
            "text/html": [
              "<div>\n",
              "<style scoped>\n",
              "    .dataframe tbody tr th:only-of-type {\n",
              "        vertical-align: middle;\n",
              "    }\n",
              "\n",
              "    .dataframe tbody tr th {\n",
              "        vertical-align: top;\n",
              "    }\n",
              "\n",
              "    .dataframe thead th {\n",
              "        text-align: right;\n",
              "    }\n",
              "</style>\n",
              "<table border=\"1\" class=\"dataframe\">\n",
              "  <thead>\n",
              "    <tr style=\"text-align: right;\">\n",
              "      <th></th>\n",
              "      <th>raw_row_number</th>\n",
              "      <th>date</th>\n",
              "      <th>location</th>\n",
              "      <th>county_name</th>\n",
              "      <th>subject_age</th>\n",
              "      <th>subject_race</th>\n",
              "      <th>subject_sex</th>\n",
              "      <th>officer_id_hash</th>\n",
              "      <th>officer_age</th>\n",
              "      <th>officer_race</th>\n",
              "      <th>department_id</th>\n",
              "      <th>type</th>\n",
              "      <th>violation</th>\n",
              "      <th>arrest_made</th>\n",
              "      <th>citation_issued</th>\n",
              "      <th>outcome</th>\n",
              "      <th>contraband_found</th>\n",
              "      <th>contraband_drugs</th>\n",
              "      <th>contraband_weapons</th>\n",
              "      <th>contraband_alcohol</th>\n",
              "      <th>contraband_other</th>\n",
              "      <th>search_conducted</th>\n",
              "      <th>search_person</th>\n",
              "      <th>search_vehicle</th>\n",
              "      <th>reason_for_stop</th>\n",
              "      <th>raw_contact_type</th>\n",
              "      <th>raw_sex</th>\n",
              "      <th>raw_race</th>\n",
              "      <th>raw_offensecode</th>\n",
              "      <th>raw_contrabanddesc</th>\n",
              "      <th>raw_officer_race</th>\n",
              "      <th>year</th>\n",
              "      <th>month</th>\n",
              "      <th>day</th>\n",
              "    </tr>\n",
              "  </thead>\n",
              "  <tbody>\n",
              "    <tr>\n",
              "      <th>6</th>\n",
              "      <td>7</td>\n",
              "      <td>2010-04-21</td>\n",
              "      <td>US Prmary 176</td>\n",
              "      <td>Calhoun County</td>\n",
              "      <td>20</td>\n",
              "      <td>black</td>\n",
              "      <td>male</td>\n",
              "      <td>56ace3c651</td>\n",
              "      <td>29</td>\n",
              "      <td>white</td>\n",
              "      <td>SCHP</td>\n",
              "      <td>vehicular</td>\n",
              "      <td>56-5-6520 Other Violations</td>\n",
              "      <td>False</td>\n",
              "      <td>True</td>\n",
              "      <td>citation</td>\n",
              "      <td>NaN</td>\n",
              "      <td>NaN</td>\n",
              "      <td>NaN</td>\n",
              "      <td>NaN</td>\n",
              "      <td>NaN</td>\n",
              "      <td>False</td>\n",
              "      <td>False</td>\n",
              "      <td>False</td>\n",
              "      <td>Violation Observed</td>\n",
              "      <td>Citation</td>\n",
              "      <td>M</td>\n",
              "      <td>Black</td>\n",
              "      <td>Other Violations</td>\n",
              "      <td>NaN</td>\n",
              "      <td>White</td>\n",
              "      <td>2010.0</td>\n",
              "      <td>4.0</td>\n",
              "      <td>21.0</td>\n",
              "    </tr>\n",
              "    <tr>\n",
              "      <th>7</th>\n",
              "      <td>8</td>\n",
              "      <td>2010-05-03</td>\n",
              "      <td>Interstate 77</td>\n",
              "      <td>York County</td>\n",
              "      <td>24</td>\n",
              "      <td>white</td>\n",
              "      <td>male</td>\n",
              "      <td>d4c160de5b</td>\n",
              "      <td>29</td>\n",
              "      <td>white</td>\n",
              "      <td>SCHP</td>\n",
              "      <td>vehicular</td>\n",
              "      <td>56-5-1520 Speeding or Too Fast For Conditions ...</td>\n",
              "      <td>False</td>\n",
              "      <td>True</td>\n",
              "      <td>citation</td>\n",
              "      <td>NaN</td>\n",
              "      <td>NaN</td>\n",
              "      <td>NaN</td>\n",
              "      <td>NaN</td>\n",
              "      <td>NaN</td>\n",
              "      <td>False</td>\n",
              "      <td>False</td>\n",
              "      <td>False</td>\n",
              "      <td>Violation Observed</td>\n",
              "      <td>Citation</td>\n",
              "      <td>M</td>\n",
              "      <td>White</td>\n",
              "      <td>Speeding or Too Fast For Conditions (----- m.p...</td>\n",
              "      <td>NaN</td>\n",
              "      <td>White</td>\n",
              "      <td>2010.0</td>\n",
              "      <td>5.0</td>\n",
              "      <td>3.0</td>\n",
              "    </tr>\n",
              "    <tr>\n",
              "      <th>29</th>\n",
              "      <td>30</td>\n",
              "      <td>2010-06-18</td>\n",
              "      <td>SC Primary 151</td>\n",
              "      <td>Darlington County</td>\n",
              "      <td>37</td>\n",
              "      <td>black</td>\n",
              "      <td>male</td>\n",
              "      <td>2f015e0f4d</td>\n",
              "      <td>24</td>\n",
              "      <td>black</td>\n",
              "      <td>SCHP</td>\n",
              "      <td>vehicular</td>\n",
              "      <td>NaN</td>\n",
              "      <td>False</td>\n",
              "      <td>False</td>\n",
              "      <td>NaN</td>\n",
              "      <td>NaN</td>\n",
              "      <td>NaN</td>\n",
              "      <td>NaN</td>\n",
              "      <td>NaN</td>\n",
              "      <td>NaN</td>\n",
              "      <td>False</td>\n",
              "      <td>False</td>\n",
              "      <td>False</td>\n",
              "      <td>Violation Observed</td>\n",
              "      <td>Public Contact</td>\n",
              "      <td>M</td>\n",
              "      <td>Black</td>\n",
              "      <td>NaN</td>\n",
              "      <td>NaN</td>\n",
              "      <td>Black</td>\n",
              "      <td>2010.0</td>\n",
              "      <td>6.0</td>\n",
              "      <td>18.0</td>\n",
              "    </tr>\n",
              "    <tr>\n",
              "      <th>76</th>\n",
              "      <td>77</td>\n",
              "      <td>2010-03-08</td>\n",
              "      <td>Secondary 80</td>\n",
              "      <td>Beaufort County</td>\n",
              "      <td>42</td>\n",
              "      <td>black</td>\n",
              "      <td>male</td>\n",
              "      <td>3e67e71a09</td>\n",
              "      <td>44</td>\n",
              "      <td>white</td>\n",
              "      <td>SCHP</td>\n",
              "      <td>vehicular</td>\n",
              "      <td>56-5-6520 Other Violations</td>\n",
              "      <td>False</td>\n",
              "      <td>True</td>\n",
              "      <td>citation</td>\n",
              "      <td>NaN</td>\n",
              "      <td>NaN</td>\n",
              "      <td>NaN</td>\n",
              "      <td>NaN</td>\n",
              "      <td>NaN</td>\n",
              "      <td>False</td>\n",
              "      <td>False</td>\n",
              "      <td>False</td>\n",
              "      <td>Violation Observed</td>\n",
              "      <td>Citation</td>\n",
              "      <td>M</td>\n",
              "      <td>Black</td>\n",
              "      <td>Other Violations</td>\n",
              "      <td>NaN</td>\n",
              "      <td>White</td>\n",
              "      <td>2010.0</td>\n",
              "      <td>3.0</td>\n",
              "      <td>8.0</td>\n",
              "    </tr>\n",
              "    <tr>\n",
              "      <th>97</th>\n",
              "      <td>98</td>\n",
              "      <td>2010-03-05</td>\n",
              "      <td>SC Primary 4</td>\n",
              "      <td>Orangeburg County</td>\n",
              "      <td>29</td>\n",
              "      <td>white</td>\n",
              "      <td>male</td>\n",
              "      <td>9310b80bf7</td>\n",
              "      <td>28</td>\n",
              "      <td>black</td>\n",
              "      <td>SCHP</td>\n",
              "      <td>vehicular</td>\n",
              "      <td>NaN</td>\n",
              "      <td>False</td>\n",
              "      <td>False</td>\n",
              "      <td>NaN</td>\n",
              "      <td>NaN</td>\n",
              "      <td>NaN</td>\n",
              "      <td>NaN</td>\n",
              "      <td>NaN</td>\n",
              "      <td>NaN</td>\n",
              "      <td>False</td>\n",
              "      <td>False</td>\n",
              "      <td>False</td>\n",
              "      <td>Violation Observed</td>\n",
              "      <td>Public Contact</td>\n",
              "      <td>M</td>\n",
              "      <td>White</td>\n",
              "      <td>NaN</td>\n",
              "      <td>NaN</td>\n",
              "      <td>Black</td>\n",
              "      <td>2010.0</td>\n",
              "      <td>3.0</td>\n",
              "      <td>5.0</td>\n",
              "    </tr>\n",
              "    <tr>\n",
              "      <th>...</th>\n",
              "      <td>...</td>\n",
              "      <td>...</td>\n",
              "      <td>...</td>\n",
              "      <td>...</td>\n",
              "      <td>...</td>\n",
              "      <td>...</td>\n",
              "      <td>...</td>\n",
              "      <td>...</td>\n",
              "      <td>...</td>\n",
              "      <td>...</td>\n",
              "      <td>...</td>\n",
              "      <td>...</td>\n",
              "      <td>...</td>\n",
              "      <td>...</td>\n",
              "      <td>...</td>\n",
              "      <td>...</td>\n",
              "      <td>...</td>\n",
              "      <td>...</td>\n",
              "      <td>...</td>\n",
              "      <td>...</td>\n",
              "      <td>...</td>\n",
              "      <td>...</td>\n",
              "      <td>...</td>\n",
              "      <td>...</td>\n",
              "      <td>...</td>\n",
              "      <td>...</td>\n",
              "      <td>...</td>\n",
              "      <td>...</td>\n",
              "      <td>...</td>\n",
              "      <td>...</td>\n",
              "      <td>...</td>\n",
              "      <td>...</td>\n",
              "      <td>...</td>\n",
              "      <td>...</td>\n",
              "    </tr>\n",
              "    <tr>\n",
              "      <th>8983743</th>\n",
              "      <td>8983744</td>\n",
              "      <td>2010-08-25</td>\n",
              "      <td>SC Primary 230</td>\n",
              "      <td>Aiken County</td>\n",
              "      <td>34</td>\n",
              "      <td>black</td>\n",
              "      <td>female</td>\n",
              "      <td>9f40682bbf</td>\n",
              "      <td>33</td>\n",
              "      <td>white</td>\n",
              "      <td>SCHP</td>\n",
              "      <td>vehicular</td>\n",
              "      <td>56-5-950 Disregarding Sign or Signal</td>\n",
              "      <td>False</td>\n",
              "      <td>True</td>\n",
              "      <td>citation</td>\n",
              "      <td>NaN</td>\n",
              "      <td>NaN</td>\n",
              "      <td>NaN</td>\n",
              "      <td>NaN</td>\n",
              "      <td>NaN</td>\n",
              "      <td>False</td>\n",
              "      <td>False</td>\n",
              "      <td>False</td>\n",
              "      <td>Violation Observed</td>\n",
              "      <td>Citation</td>\n",
              "      <td>F</td>\n",
              "      <td>Black</td>\n",
              "      <td>Disregarding Sign or Signal</td>\n",
              "      <td>NaN</td>\n",
              "      <td>White</td>\n",
              "      <td>2010.0</td>\n",
              "      <td>8.0</td>\n",
              "      <td>25.0</td>\n",
              "    </tr>\n",
              "    <tr>\n",
              "      <th>8983759</th>\n",
              "      <td>8983760</td>\n",
              "      <td>2010-03-13</td>\n",
              "      <td>Interstate 20</td>\n",
              "      <td>Aiken County</td>\n",
              "      <td>23</td>\n",
              "      <td>black</td>\n",
              "      <td>female</td>\n",
              "      <td>b784e33e83</td>\n",
              "      <td>24</td>\n",
              "      <td>black</td>\n",
              "      <td>SCHP</td>\n",
              "      <td>vehicular</td>\n",
              "      <td>56-5-1520 Speeding or Too Fast For Conditions ...</td>\n",
              "      <td>False</td>\n",
              "      <td>True</td>\n",
              "      <td>citation</td>\n",
              "      <td>NaN</td>\n",
              "      <td>NaN</td>\n",
              "      <td>NaN</td>\n",
              "      <td>NaN</td>\n",
              "      <td>NaN</td>\n",
              "      <td>False</td>\n",
              "      <td>False</td>\n",
              "      <td>False</td>\n",
              "      <td>Radar Triggered</td>\n",
              "      <td>Citation</td>\n",
              "      <td>F</td>\n",
              "      <td>Black</td>\n",
              "      <td>Speeding or Too Fast For Conditions (----- m.p...</td>\n",
              "      <td>NaN</td>\n",
              "      <td>Black</td>\n",
              "      <td>2010.0</td>\n",
              "      <td>3.0</td>\n",
              "      <td>13.0</td>\n",
              "    </tr>\n",
              "    <tr>\n",
              "      <th>8983762</th>\n",
              "      <td>8983763</td>\n",
              "      <td>2010-03-28</td>\n",
              "      <td>Interstate 20</td>\n",
              "      <td>Kershaw County</td>\n",
              "      <td>25</td>\n",
              "      <td>black</td>\n",
              "      <td>male</td>\n",
              "      <td>32fbfd02ac</td>\n",
              "      <td>26</td>\n",
              "      <td>white</td>\n",
              "      <td>SCHP</td>\n",
              "      <td>vehicular</td>\n",
              "      <td>56-5-1520 Speeding or Too Fast For Conditions ...</td>\n",
              "      <td>False</td>\n",
              "      <td>True</td>\n",
              "      <td>citation</td>\n",
              "      <td>NaN</td>\n",
              "      <td>NaN</td>\n",
              "      <td>NaN</td>\n",
              "      <td>NaN</td>\n",
              "      <td>NaN</td>\n",
              "      <td>False</td>\n",
              "      <td>False</td>\n",
              "      <td>False</td>\n",
              "      <td>Violation Observed</td>\n",
              "      <td>Citation</td>\n",
              "      <td>M</td>\n",
              "      <td>Black</td>\n",
              "      <td>Speeding or Too Fast For Conditions (-- m.p.h....</td>\n",
              "      <td>NaN</td>\n",
              "      <td>White</td>\n",
              "      <td>2010.0</td>\n",
              "      <td>3.0</td>\n",
              "      <td>28.0</td>\n",
              "    </tr>\n",
              "    <tr>\n",
              "      <th>8983774</th>\n",
              "      <td>8983775</td>\n",
              "      <td>2010-03-04</td>\n",
              "      <td>US Prmary 521</td>\n",
              "      <td>Kershaw County</td>\n",
              "      <td>79</td>\n",
              "      <td>white</td>\n",
              "      <td>female</td>\n",
              "      <td>286f1062d3</td>\n",
              "      <td>36</td>\n",
              "      <td>white</td>\n",
              "      <td>SCHP</td>\n",
              "      <td>vehicular</td>\n",
              "      <td>NaN</td>\n",
              "      <td>False</td>\n",
              "      <td>False</td>\n",
              "      <td>NaN</td>\n",
              "      <td>NaN</td>\n",
              "      <td>NaN</td>\n",
              "      <td>NaN</td>\n",
              "      <td>NaN</td>\n",
              "      <td>NaN</td>\n",
              "      <td>False</td>\n",
              "      <td>False</td>\n",
              "      <td>False</td>\n",
              "      <td>Violation Observed</td>\n",
              "      <td>Public Contact</td>\n",
              "      <td>F</td>\n",
              "      <td>White</td>\n",
              "      <td>NaN</td>\n",
              "      <td>NaN</td>\n",
              "      <td>White</td>\n",
              "      <td>2010.0</td>\n",
              "      <td>3.0</td>\n",
              "      <td>4.0</td>\n",
              "    </tr>\n",
              "    <tr>\n",
              "      <th>8983802</th>\n",
              "      <td>8983803</td>\n",
              "      <td>2010-11-20</td>\n",
              "      <td>Secondary 526</td>\n",
              "      <td>Darlington County</td>\n",
              "      <td>33</td>\n",
              "      <td>black</td>\n",
              "      <td>male</td>\n",
              "      <td>35d5dd2f85</td>\n",
              "      <td>34</td>\n",
              "      <td>black</td>\n",
              "      <td>SCHP</td>\n",
              "      <td>vehicular</td>\n",
              "      <td>61-4-110 Other Violations</td>\n",
              "      <td>True</td>\n",
              "      <td>True</td>\n",
              "      <td>arrest</td>\n",
              "      <td>False</td>\n",
              "      <td>False</td>\n",
              "      <td>False</td>\n",
              "      <td>NaN</td>\n",
              "      <td>False</td>\n",
              "      <td>True</td>\n",
              "      <td>True</td>\n",
              "      <td>True</td>\n",
              "      <td>Violation Observed</td>\n",
              "      <td>Citation</td>\n",
              "      <td>M</td>\n",
              "      <td>Black</td>\n",
              "      <td>Other Violations</td>\n",
              "      <td>NaN</td>\n",
              "      <td>Black</td>\n",
              "      <td>2010.0</td>\n",
              "      <td>11.0</td>\n",
              "      <td>20.0</td>\n",
              "    </tr>\n",
              "  </tbody>\n",
              "</table>\n",
              "<p>852048 rows × 34 columns</p>\n",
              "</div>"
            ],
            "text/plain": [
              "         raw_row_number       date        location  ...    year month   day\n",
              "6                     7 2010-04-21   US Prmary 176  ...  2010.0   4.0  21.0\n",
              "7                     8 2010-05-03   Interstate 77  ...  2010.0   5.0   3.0\n",
              "29                   30 2010-06-18  SC Primary 151  ...  2010.0   6.0  18.0\n",
              "76                   77 2010-03-08    Secondary 80  ...  2010.0   3.0   8.0\n",
              "97                   98 2010-03-05    SC Primary 4  ...  2010.0   3.0   5.0\n",
              "...                 ...        ...             ...  ...     ...   ...   ...\n",
              "8983743         8983744 2010-08-25  SC Primary 230  ...  2010.0   8.0  25.0\n",
              "8983759         8983760 2010-03-13   Interstate 20  ...  2010.0   3.0  13.0\n",
              "8983762         8983763 2010-03-28   Interstate 20  ...  2010.0   3.0  28.0\n",
              "8983774         8983775 2010-03-04   US Prmary 521  ...  2010.0   3.0   4.0\n",
              "8983802         8983803 2010-11-20   Secondary 526  ...  2010.0  11.0  20.0\n",
              "\n",
              "[852048 rows x 34 columns]"
            ]
          },
          "metadata": {
            "tags": []
          },
          "execution_count": 27
        }
      ]
    },
    {
      "cell_type": "code",
      "metadata": {
        "id": "ryAcIycw2Bbj",
        "colab_type": "code",
        "colab": {
          "base_uri": "https://localhost:8080/",
          "height": 380
        },
        "outputId": "aa3ea15c-b655-4f2a-a88e-8d498416ac27"
      },
      "source": [
        "# now we're going to do a two-sample t-test to test the Officer X 2010 arrest racial demogaphics to the statewide 2010 racial demographics\n",
        "# Null: Officer X's 2010 racial arrest demographics are equal to the statewide 2010 racial arrest demographics\n",
        "# Alternative: Officer X's 2010 racial arrest demographics have a higher proportion of white people arrested than the  statewide 2010 racial arrest demographics\n",
        "# ttest2010 = stats.ttest_ind(y2010['subject_race'], officer_main2010['subject_race'])"
      ],
      "execution_count": 19,
      "outputs": [
        {
          "output_type": "error",
          "ename": "KeyboardInterrupt",
          "evalue": "ignored",
          "traceback": [
            "\u001b[0;31m---------------------------------------------------------------------------\u001b[0m",
            "\u001b[0;31mKeyboardInterrupt\u001b[0m                         Traceback (most recent call last)",
            "\u001b[0;32m<ipython-input-19-a6a7d93ce3e5>\u001b[0m in \u001b[0;36m<module>\u001b[0;34m()\u001b[0m\n\u001b[1;32m      2\u001b[0m \u001b[0;31m# Null: Officer X's 2010 racial arrest demographics are equal to the statewide 2010 racial arrest demographics\u001b[0m\u001b[0;34m\u001b[0m\u001b[0;34m\u001b[0m\u001b[0;34m\u001b[0m\u001b[0m\n\u001b[1;32m      3\u001b[0m \u001b[0;31m# Alternative: Officer X's 2010 racial arrest demographics have a higher proportion of white people arrested than the  statewide 2010 racial arrest demographics\u001b[0m\u001b[0;34m\u001b[0m\u001b[0;34m\u001b[0m\u001b[0;34m\u001b[0m\u001b[0m\n\u001b[0;32m----> 4\u001b[0;31m \u001b[0mttest2010\u001b[0m  \u001b[0;34m=\u001b[0m \u001b[0mstats\u001b[0m\u001b[0;34m.\u001b[0m\u001b[0mttest_ind\u001b[0m\u001b[0;34m(\u001b[0m\u001b[0my2010\u001b[0m\u001b[0;34m[\u001b[0m\u001b[0;34m'subject_race'\u001b[0m\u001b[0;34m]\u001b[0m\u001b[0;34m,\u001b[0m \u001b[0mofficer_main2010\u001b[0m\u001b[0;34m[\u001b[0m\u001b[0;34m'subject_race'\u001b[0m\u001b[0;34m]\u001b[0m\u001b[0;34m)\u001b[0m\u001b[0;34m\u001b[0m\u001b[0;34m\u001b[0m\u001b[0m\n\u001b[0m",
            "\u001b[0;32m/usr/local/lib/python3.6/dist-packages/scipy/stats/stats.py\u001b[0m in \u001b[0;36mttest_ind\u001b[0;34m(a, b, axis, equal_var, nan_policy)\u001b[0m\n\u001b[1;32m   5238\u001b[0m \u001b[0;34m\u001b[0m\u001b[0m\n\u001b[1;32m   5239\u001b[0m     \u001b[0;31m# check both a and b\u001b[0m\u001b[0;34m\u001b[0m\u001b[0;34m\u001b[0m\u001b[0;34m\u001b[0m\u001b[0m\n\u001b[0;32m-> 5240\u001b[0;31m     \u001b[0mcna\u001b[0m\u001b[0;34m,\u001b[0m \u001b[0mnpa\u001b[0m \u001b[0;34m=\u001b[0m \u001b[0m_contains_nan\u001b[0m\u001b[0;34m(\u001b[0m\u001b[0ma\u001b[0m\u001b[0;34m,\u001b[0m \u001b[0mnan_policy\u001b[0m\u001b[0;34m)\u001b[0m\u001b[0;34m\u001b[0m\u001b[0;34m\u001b[0m\u001b[0m\n\u001b[0m\u001b[1;32m   5241\u001b[0m     \u001b[0mcnb\u001b[0m\u001b[0;34m,\u001b[0m \u001b[0mnpb\u001b[0m \u001b[0;34m=\u001b[0m \u001b[0m_contains_nan\u001b[0m\u001b[0;34m(\u001b[0m\u001b[0mb\u001b[0m\u001b[0;34m,\u001b[0m \u001b[0mnan_policy\u001b[0m\u001b[0;34m)\u001b[0m\u001b[0;34m\u001b[0m\u001b[0;34m\u001b[0m\u001b[0m\n\u001b[1;32m   5242\u001b[0m     \u001b[0mcontains_nan\u001b[0m \u001b[0;34m=\u001b[0m \u001b[0mcna\u001b[0m \u001b[0;32mor\u001b[0m \u001b[0mcnb\u001b[0m\u001b[0;34m\u001b[0m\u001b[0;34m\u001b[0m\u001b[0m\n",
            "\u001b[0;32m/usr/local/lib/python3.6/dist-packages/scipy/stats/stats.py\u001b[0m in \u001b[0;36m_contains_nan\u001b[0;34m(a, nan_policy)\u001b[0m\n\u001b[1;32m    255\u001b[0m         \u001b[0;31m# e.g. np.isnan(a).any()\u001b[0m\u001b[0;34m\u001b[0m\u001b[0;34m\u001b[0m\u001b[0;34m\u001b[0m\u001b[0m\n\u001b[1;32m    256\u001b[0m         \u001b[0;32mwith\u001b[0m \u001b[0mnp\u001b[0m\u001b[0;34m.\u001b[0m\u001b[0merrstate\u001b[0m\u001b[0;34m(\u001b[0m\u001b[0minvalid\u001b[0m\u001b[0;34m=\u001b[0m\u001b[0;34m'ignore'\u001b[0m\u001b[0;34m)\u001b[0m\u001b[0;34m:\u001b[0m\u001b[0;34m\u001b[0m\u001b[0;34m\u001b[0m\u001b[0m\n\u001b[0;32m--> 257\u001b[0;31m             \u001b[0mcontains_nan\u001b[0m \u001b[0;34m=\u001b[0m \u001b[0mnp\u001b[0m\u001b[0;34m.\u001b[0m\u001b[0misnan\u001b[0m\u001b[0;34m(\u001b[0m\u001b[0mnp\u001b[0m\u001b[0;34m.\u001b[0m\u001b[0msum\u001b[0m\u001b[0;34m(\u001b[0m\u001b[0ma\u001b[0m\u001b[0;34m)\u001b[0m\u001b[0;34m)\u001b[0m\u001b[0;34m\u001b[0m\u001b[0;34m\u001b[0m\u001b[0m\n\u001b[0m\u001b[1;32m    258\u001b[0m     \u001b[0;32mexcept\u001b[0m \u001b[0mTypeError\u001b[0m\u001b[0;34m:\u001b[0m\u001b[0;34m\u001b[0m\u001b[0;34m\u001b[0m\u001b[0m\n\u001b[1;32m    259\u001b[0m         \u001b[0;31m# This can happen when attempting to sum things which are not\u001b[0m\u001b[0;34m\u001b[0m\u001b[0;34m\u001b[0m\u001b[0;34m\u001b[0m\u001b[0m\n",
            "\u001b[0;32m<__array_function__ internals>\u001b[0m in \u001b[0;36msum\u001b[0;34m(*args, **kwargs)\u001b[0m\n",
            "\u001b[0;32m/usr/local/lib/python3.6/dist-packages/numpy/core/fromnumeric.py\u001b[0m in \u001b[0;36msum\u001b[0;34m(a, axis, dtype, out, keepdims, initial, where)\u001b[0m\n\u001b[1;32m   2227\u001b[0m \u001b[0;34m\u001b[0m\u001b[0m\n\u001b[1;32m   2228\u001b[0m     return _wrapreduction(a, np.add, 'sum', axis, dtype, out, keepdims=keepdims,\n\u001b[0;32m-> 2229\u001b[0;31m                           initial=initial, where=where)\n\u001b[0m\u001b[1;32m   2230\u001b[0m \u001b[0;34m\u001b[0m\u001b[0m\n\u001b[1;32m   2231\u001b[0m \u001b[0;34m\u001b[0m\u001b[0m\n",
            "\u001b[0;32m/usr/local/lib/python3.6/dist-packages/numpy/core/fromnumeric.py\u001b[0m in \u001b[0;36m_wrapreduction\u001b[0;34m(obj, ufunc, method, axis, dtype, out, **kwargs)\u001b[0m\n\u001b[1;32m     88\u001b[0m                 \u001b[0;32mreturn\u001b[0m \u001b[0mreduction\u001b[0m\u001b[0;34m(\u001b[0m\u001b[0maxis\u001b[0m\u001b[0;34m=\u001b[0m\u001b[0maxis\u001b[0m\u001b[0;34m,\u001b[0m \u001b[0mout\u001b[0m\u001b[0;34m=\u001b[0m\u001b[0mout\u001b[0m\u001b[0;34m,\u001b[0m \u001b[0;34m**\u001b[0m\u001b[0mpasskwargs\u001b[0m\u001b[0;34m)\u001b[0m\u001b[0;34m\u001b[0m\u001b[0;34m\u001b[0m\u001b[0m\n\u001b[1;32m     89\u001b[0m \u001b[0;34m\u001b[0m\u001b[0m\n\u001b[0;32m---> 90\u001b[0;31m     \u001b[0;32mreturn\u001b[0m \u001b[0mufunc\u001b[0m\u001b[0;34m.\u001b[0m\u001b[0mreduce\u001b[0m\u001b[0;34m(\u001b[0m\u001b[0mobj\u001b[0m\u001b[0;34m,\u001b[0m \u001b[0maxis\u001b[0m\u001b[0;34m,\u001b[0m \u001b[0mdtype\u001b[0m\u001b[0;34m,\u001b[0m \u001b[0mout\u001b[0m\u001b[0;34m,\u001b[0m \u001b[0;34m**\u001b[0m\u001b[0mpasskwargs\u001b[0m\u001b[0;34m)\u001b[0m\u001b[0;34m\u001b[0m\u001b[0;34m\u001b[0m\u001b[0m\n\u001b[0m\u001b[1;32m     91\u001b[0m \u001b[0;34m\u001b[0m\u001b[0m\n\u001b[1;32m     92\u001b[0m \u001b[0;34m\u001b[0m\u001b[0m\n",
            "\u001b[0;31mKeyboardInterrupt\u001b[0m: "
          ]
        }
      ]
    },
    {
      "cell_type": "code",
      "metadata": {
        "id": "sqbIxek8jsRa",
        "colab_type": "code",
        "colab": {}
      },
      "source": [
        "# what is his earliest arrest date?\n",
        "  # 2005\n",
        "officer_main['date'].sort_values()"
      ],
      "execution_count": null,
      "outputs": []
    },
    {
      "cell_type": "code",
      "metadata": {
        "id": "gIq9_4eBLJlf",
        "colab_type": "code",
        "colab": {
          "base_uri": "https://localhost:8080/",
          "height": 86
        },
        "outputId": "8d6913fd-9931-4f97-abb0-f48053f4058f"
      },
      "source": [
        "# what are Officer X's top five reasons for arresting someone?\n",
        "# turns out, he's made arrests for three different violations:\n",
        "\n",
        "officer_main['reason_for_stop'].value_counts()"
      ],
      "execution_count": 134,
      "outputs": [
        {
          "output_type": "execute_result",
          "data": {
            "text/plain": [
              "Violation Observed    28720\n",
              "Pedestrian              142\n",
              "Bolo Follow Up           22\n",
              "Name: reason_for_stop, dtype: int64"
            ]
          },
          "metadata": {
            "tags": []
          },
          "execution_count": 134
        }
      ]
    },
    {
      "cell_type": "code",
      "metadata": {
        "id": "qgatX-fpc4tZ",
        "colab_type": "code",
        "colab": {}
      },
      "source": [
        "# and which years had the most arrests?\n",
        "# first, we've got to create a new column for the years"
      ],
      "execution_count": null,
      "outputs": []
    },
    {
      "cell_type": "code",
      "metadata": {
        "id": "DP__jjoC1ceo",
        "colab_type": "code",
        "colab": {}
      },
      "source": [
        "######### comparing Officer X to another officer chosen through random sampling"
      ],
      "execution_count": null,
      "outputs": []
    },
    {
      "cell_type": "code",
      "metadata": {
        "id": "JUNiF2Qov7dZ",
        "colab_type": "code",
        "colab": {
          "base_uri": "https://localhost:8080/",
          "height": 52
        },
        "outputId": "9f515193-f676-4ad3-aad6-11b0dea52de4"
      },
      "source": [
        "# but we also want to compare him against another officer\n",
        "# so we'll draw a random sample\n",
        "# our random officer has the hash id: 576e3a5317\n",
        "officer_sample = y2010['officer_id_hash'].sample()\n",
        "print(\"Random Officer: \", officer_sample)"
      ],
      "execution_count": 44,
      "outputs": [
        {
          "output_type": "stream",
          "text": [
            "Random Officer:  5405522    6b458002e3\n",
            "Name: officer_id_hash, dtype: object\n"
          ],
          "name": "stdout"
        }
      ]
    },
    {
      "cell_type": "code",
      "metadata": {
        "id": "rNJXt3BUxUCK",
        "colab_type": "code",
        "colab": {
          "base_uri": "https://localhost:8080/",
          "height": 396
        },
        "outputId": "c98df138-ed3d-4cf7-9d3a-0a8e8196bdb2"
      },
      "source": [
        "# we're going to examine who the officer with the most arrests is, and as much info about him as possible.\n",
        "# we'll call him Officer R, for \"random\"\n",
        "# what we've found out so far:\n",
        "  # the officer is white\n",
        "  # his arrests are predominantly white; he has arrested ~3,000 more white people than Black people\n",
        "  # his arrests are predominantly male; he has arrested ~8,000 more men than women\n",
        "off_samp = y2010['officer_id_hash'].str.contains(\"6b458002e3\")\n",
        "officer_random = y2010[off_samp]\n",
        "print(officer_random.shape)\n",
        "officer_random.head()"
      ],
      "execution_count": 45,
      "outputs": [
        {
          "output_type": "stream",
          "text": [
            "(1579, 34)\n"
          ],
          "name": "stdout"
        },
        {
          "output_type": "execute_result",
          "data": {
            "text/html": [
              "<div>\n",
              "<style scoped>\n",
              "    .dataframe tbody tr th:only-of-type {\n",
              "        vertical-align: middle;\n",
              "    }\n",
              "\n",
              "    .dataframe tbody tr th {\n",
              "        vertical-align: top;\n",
              "    }\n",
              "\n",
              "    .dataframe thead th {\n",
              "        text-align: right;\n",
              "    }\n",
              "</style>\n",
              "<table border=\"1\" class=\"dataframe\">\n",
              "  <thead>\n",
              "    <tr style=\"text-align: right;\">\n",
              "      <th></th>\n",
              "      <th>raw_row_number</th>\n",
              "      <th>date</th>\n",
              "      <th>location</th>\n",
              "      <th>county_name</th>\n",
              "      <th>subject_age</th>\n",
              "      <th>subject_race</th>\n",
              "      <th>subject_sex</th>\n",
              "      <th>officer_id_hash</th>\n",
              "      <th>officer_age</th>\n",
              "      <th>officer_race</th>\n",
              "      <th>department_id</th>\n",
              "      <th>type</th>\n",
              "      <th>violation</th>\n",
              "      <th>arrest_made</th>\n",
              "      <th>citation_issued</th>\n",
              "      <th>outcome</th>\n",
              "      <th>contraband_found</th>\n",
              "      <th>contraband_drugs</th>\n",
              "      <th>contraband_weapons</th>\n",
              "      <th>contraband_alcohol</th>\n",
              "      <th>contraband_other</th>\n",
              "      <th>search_conducted</th>\n",
              "      <th>search_person</th>\n",
              "      <th>search_vehicle</th>\n",
              "      <th>reason_for_stop</th>\n",
              "      <th>raw_contact_type</th>\n",
              "      <th>raw_sex</th>\n",
              "      <th>raw_race</th>\n",
              "      <th>raw_offensecode</th>\n",
              "      <th>raw_contrabanddesc</th>\n",
              "      <th>raw_officer_race</th>\n",
              "      <th>year</th>\n",
              "      <th>month</th>\n",
              "      <th>day</th>\n",
              "    </tr>\n",
              "  </thead>\n",
              "  <tbody>\n",
              "    <tr>\n",
              "      <th>4598</th>\n",
              "      <td>4599</td>\n",
              "      <td>2010-05-17</td>\n",
              "      <td>US Prmary 176</td>\n",
              "      <td>Richland County</td>\n",
              "      <td>27</td>\n",
              "      <td>black</td>\n",
              "      <td>male</td>\n",
              "      <td>6b458002e3</td>\n",
              "      <td>26</td>\n",
              "      <td>white</td>\n",
              "      <td>SCHP</td>\n",
              "      <td>vehicular</td>\n",
              "      <td>NaN</td>\n",
              "      <td>False</td>\n",
              "      <td>False</td>\n",
              "      <td>NaN</td>\n",
              "      <td>NaN</td>\n",
              "      <td>NaN</td>\n",
              "      <td>NaN</td>\n",
              "      <td>NaN</td>\n",
              "      <td>NaN</td>\n",
              "      <td>False</td>\n",
              "      <td>False</td>\n",
              "      <td>False</td>\n",
              "      <td>Violation Observed</td>\n",
              "      <td>Public Contact</td>\n",
              "      <td>M</td>\n",
              "      <td>Black</td>\n",
              "      <td>NaN</td>\n",
              "      <td>NaN</td>\n",
              "      <td>White</td>\n",
              "      <td>2010.0</td>\n",
              "      <td>5.0</td>\n",
              "      <td>17.0</td>\n",
              "    </tr>\n",
              "    <tr>\n",
              "      <th>7137</th>\n",
              "      <td>7138</td>\n",
              "      <td>2010-06-28</td>\n",
              "      <td>Secondary 31</td>\n",
              "      <td>Richland County</td>\n",
              "      <td>43</td>\n",
              "      <td>white</td>\n",
              "      <td>female</td>\n",
              "      <td>6b458002e3</td>\n",
              "      <td>26</td>\n",
              "      <td>white</td>\n",
              "      <td>SCHP</td>\n",
              "      <td>vehicular</td>\n",
              "      <td>56-5-6520 Other Violations</td>\n",
              "      <td>False</td>\n",
              "      <td>True</td>\n",
              "      <td>citation</td>\n",
              "      <td>NaN</td>\n",
              "      <td>NaN</td>\n",
              "      <td>NaN</td>\n",
              "      <td>NaN</td>\n",
              "      <td>NaN</td>\n",
              "      <td>False</td>\n",
              "      <td>False</td>\n",
              "      <td>False</td>\n",
              "      <td>Violation Observed</td>\n",
              "      <td>Citation</td>\n",
              "      <td>F</td>\n",
              "      <td>White</td>\n",
              "      <td>Other Violations</td>\n",
              "      <td>NaN</td>\n",
              "      <td>White</td>\n",
              "      <td>2010.0</td>\n",
              "      <td>6.0</td>\n",
              "      <td>28.0</td>\n",
              "    </tr>\n",
              "    <tr>\n",
              "      <th>14595</th>\n",
              "      <td>14596</td>\n",
              "      <td>2010-10-04</td>\n",
              "      <td>Interstate 77</td>\n",
              "      <td>Richland County</td>\n",
              "      <td>27</td>\n",
              "      <td>white</td>\n",
              "      <td>male</td>\n",
              "      <td>6b458002e3</td>\n",
              "      <td>26</td>\n",
              "      <td>white</td>\n",
              "      <td>SCHP</td>\n",
              "      <td>vehicular</td>\n",
              "      <td>NaN</td>\n",
              "      <td>False</td>\n",
              "      <td>False</td>\n",
              "      <td>NaN</td>\n",
              "      <td>NaN</td>\n",
              "      <td>NaN</td>\n",
              "      <td>NaN</td>\n",
              "      <td>NaN</td>\n",
              "      <td>NaN</td>\n",
              "      <td>False</td>\n",
              "      <td>False</td>\n",
              "      <td>False</td>\n",
              "      <td>Violation Observed</td>\n",
              "      <td>Public Contact</td>\n",
              "      <td>M</td>\n",
              "      <td>White</td>\n",
              "      <td>NaN</td>\n",
              "      <td>NaN</td>\n",
              "      <td>White</td>\n",
              "      <td>2010.0</td>\n",
              "      <td>10.0</td>\n",
              "      <td>4.0</td>\n",
              "    </tr>\n",
              "    <tr>\n",
              "      <th>14596</th>\n",
              "      <td>14597</td>\n",
              "      <td>2010-04-09</td>\n",
              "      <td>Secondary 1036</td>\n",
              "      <td>Richland County</td>\n",
              "      <td>19</td>\n",
              "      <td>black</td>\n",
              "      <td>female</td>\n",
              "      <td>6b458002e3</td>\n",
              "      <td>26</td>\n",
              "      <td>white</td>\n",
              "      <td>SCHP</td>\n",
              "      <td>vehicular</td>\n",
              "      <td>56-5-2320 No Right of Way</td>\n",
              "      <td>False</td>\n",
              "      <td>True</td>\n",
              "      <td>citation</td>\n",
              "      <td>NaN</td>\n",
              "      <td>NaN</td>\n",
              "      <td>NaN</td>\n",
              "      <td>NaN</td>\n",
              "      <td>NaN</td>\n",
              "      <td>False</td>\n",
              "      <td>False</td>\n",
              "      <td>False</td>\n",
              "      <td>Collision</td>\n",
              "      <td>Citation</td>\n",
              "      <td>F</td>\n",
              "      <td>Black</td>\n",
              "      <td>No Right of Way</td>\n",
              "      <td>NaN</td>\n",
              "      <td>White</td>\n",
              "      <td>2010.0</td>\n",
              "      <td>4.0</td>\n",
              "      <td>9.0</td>\n",
              "    </tr>\n",
              "    <tr>\n",
              "      <th>21404</th>\n",
              "      <td>21405</td>\n",
              "      <td>2010-05-13</td>\n",
              "      <td>US Prmary 176</td>\n",
              "      <td>Richland County</td>\n",
              "      <td>25</td>\n",
              "      <td>black</td>\n",
              "      <td>female</td>\n",
              "      <td>6b458002e3</td>\n",
              "      <td>26</td>\n",
              "      <td>white</td>\n",
              "      <td>SCHP</td>\n",
              "      <td>vehicular</td>\n",
              "      <td>56-5-6520 Other Violations</td>\n",
              "      <td>False</td>\n",
              "      <td>True</td>\n",
              "      <td>citation</td>\n",
              "      <td>NaN</td>\n",
              "      <td>NaN</td>\n",
              "      <td>NaN</td>\n",
              "      <td>NaN</td>\n",
              "      <td>NaN</td>\n",
              "      <td>False</td>\n",
              "      <td>False</td>\n",
              "      <td>False</td>\n",
              "      <td>Violation Observed</td>\n",
              "      <td>Citation</td>\n",
              "      <td>F</td>\n",
              "      <td>Black</td>\n",
              "      <td>Other Violations</td>\n",
              "      <td>NaN</td>\n",
              "      <td>White</td>\n",
              "      <td>2010.0</td>\n",
              "      <td>5.0</td>\n",
              "      <td>13.0</td>\n",
              "    </tr>\n",
              "  </tbody>\n",
              "</table>\n",
              "</div>"
            ],
            "text/plain": [
              "       raw_row_number       date        location  ...    year month   day\n",
              "4598             4599 2010-05-17   US Prmary 176  ...  2010.0   5.0  17.0\n",
              "7137             7138 2010-06-28    Secondary 31  ...  2010.0   6.0  28.0\n",
              "14595           14596 2010-10-04   Interstate 77  ...  2010.0  10.0   4.0\n",
              "14596           14597 2010-04-09  Secondary 1036  ...  2010.0   4.0   9.0\n",
              "21404           21405 2010-05-13   US Prmary 176  ...  2010.0   5.0  13.0\n",
              "\n",
              "[5 rows x 34 columns]"
            ]
          },
          "metadata": {
            "tags": []
          },
          "execution_count": 45
        }
      ]
    },
    {
      "cell_type": "code",
      "metadata": {
        "colab_type": "code",
        "id": "PrnI7HbPydNW",
        "colab": {
          "base_uri": "https://localhost:8080/",
          "height": 225
        },
        "outputId": "79afedc0-325d-4b19-e989-3bd156f6a26c"
      },
      "source": [
        "# Where did he make the most arrests?\n",
        "  # Interstate 20\n",
        "officer_random['location'].value_counts()"
      ],
      "execution_count": 32,
      "outputs": [
        {
          "output_type": "execute_result",
          "data": {
            "text/plain": [
              "US Prmary 17             1052\n",
              "SC Primary 544            645\n",
              "SC Primary 707            563\n",
              "US Prmary 501             271\n",
              "Secondary 1240             81\n",
              "                         ... \n",
              "Secondary 707               1\n",
              "County breezewood dr.       1\n",
              "Secondary 66                1\n",
              "County cox ferry rd         1\n",
              "County HOW. PKWY            1\n",
              "Name: location, Length: 191, dtype: int64"
            ]
          },
          "metadata": {
            "tags": []
          },
          "execution_count": 32
        }
      ]
    },
    {
      "cell_type": "code",
      "metadata": {
        "colab_type": "code",
        "id": "XjlWlgUhydNl",
        "colab": {
          "base_uri": "https://localhost:8080/",
          "height": 225
        },
        "outputId": "867b5ab7-5567-4d45-8133-acaead0ae0e6"
      },
      "source": [
        "# his current age\n",
        "# Officer X's last arrest was made in 2016, when he is recorded as 41\n",
        "# So, in 2020, he is around 45 years old (of course, this depends on his birthday)\n",
        "officer_random['officer_age'].sort_values()"
      ],
      "execution_count": 46,
      "outputs": [
        {
          "output_type": "execute_result",
          "data": {
            "text/plain": [
              "4598       26\n",
              "5794469    26\n",
              "5787100    26\n",
              "5779069    26\n",
              "5766821    26\n",
              "           ..\n",
              "4467323    27\n",
              "1917990    27\n",
              "4434849    27\n",
              "3225879    27\n",
              "6541345    27\n",
              "Name: officer_age, Length: 1579, dtype: object"
            ]
          },
          "metadata": {
            "tags": []
          },
          "execution_count": 46
        }
      ]
    },
    {
      "cell_type": "code",
      "metadata": {
        "colab_type": "code",
        "id": "wx0fVophydNt",
        "colab": {
          "base_uri": "https://localhost:8080/",
          "height": 104
        },
        "outputId": "3831011f-8e28-4355-ca24-d40451bfa6a0"
      },
      "source": [
        "# what's the primary race this officer has arrested during the time period?\n",
        "  # white\n",
        "officer_random['subject_race'].value_counts()"
      ],
      "execution_count": 47,
      "outputs": [
        {
          "output_type": "execute_result",
          "data": {
            "text/plain": [
              "black       877\n",
              "white       598\n",
              "hispanic     65\n",
              "other        39\n",
              "Name: subject_race, dtype: int64"
            ]
          },
          "metadata": {
            "tags": []
          },
          "execution_count": 47
        }
      ]
    },
    {
      "cell_type": "code",
      "metadata": {
        "colab_type": "code",
        "id": "L4vzOcwqydN0",
        "colab": {
          "base_uri": "https://localhost:8080/",
          "height": 69
        },
        "outputId": "14b580de-b8d8-4e2e-9b87-f8893b965e44"
      },
      "source": [
        "# what's the primary race this officer has arrested during the time period\n",
        "officer_random['subject_sex'].value_counts()"
      ],
      "execution_count": 48,
      "outputs": [
        {
          "output_type": "execute_result",
          "data": {
            "text/plain": [
              "male      988\n",
              "female    591\n",
              "Name: subject_sex, dtype: int64"
            ]
          },
          "metadata": {
            "tags": []
          },
          "execution_count": 48
        }
      ]
    },
    {
      "cell_type": "code",
      "metadata": {
        "colab_type": "code",
        "id": "g_xwy2_WydN_",
        "colab": {
          "base_uri": "https://localhost:8080/",
          "height": 69
        },
        "outputId": "f45938bf-d8d1-4aae-b3f1-2d3f9d410d7a"
      },
      "source": [
        "sex_count_or = officer_random['subject_sex'].value_counts()\n",
        "sex_count_or"
      ],
      "execution_count": 49,
      "outputs": [
        {
          "output_type": "execute_result",
          "data": {
            "text/plain": [
              "male      988\n",
              "female    591\n",
              "Name: subject_sex, dtype: int64"
            ]
          },
          "metadata": {
            "tags": []
          },
          "execution_count": 49
        }
      ]
    },
    {
      "cell_type": "code",
      "metadata": {
        "colab_type": "code",
        "id": "TwNnLkFRydOF",
        "colab": {
          "base_uri": "https://localhost:8080/",
          "height": 69
        },
        "outputId": "c5211696-446c-4d7d-f3d6-dc5bc02d1bc9"
      },
      "source": [
        "# what about the intersection of race and gender?\n",
        "\n",
        "# white men and women\n",
        "rwhite2 = officer_random['subject_race'].str.contains(\"white\")\n",
        "rwhite = officer_random[rwhite2]\n",
        "rwhite['subject_sex'].value_counts()"
      ],
      "execution_count": 50,
      "outputs": [
        {
          "output_type": "execute_result",
          "data": {
            "text/plain": [
              "male      379\n",
              "female    219\n",
              "Name: subject_sex, dtype: int64"
            ]
          },
          "metadata": {
            "tags": []
          },
          "execution_count": 50
        }
      ]
    },
    {
      "cell_type": "code",
      "metadata": {
        "colab_type": "code",
        "id": "9s2SVGoKydOJ",
        "colab": {
          "base_uri": "https://localhost:8080/",
          "height": 69
        },
        "outputId": "d238f5a3-43be-404c-aa75-66a2caf8d626"
      },
      "source": [
        "# black men and women\n",
        "rblack2 = officer_random['subject_race'].str.contains(\"black\")\n",
        "rblack = officer_random[rblack2]\n",
        "rblack['subject_sex'].value_counts()"
      ],
      "execution_count": 51,
      "outputs": [
        {
          "output_type": "execute_result",
          "data": {
            "text/plain": [
              "male      528\n",
              "female    349\n",
              "Name: subject_sex, dtype: int64"
            ]
          },
          "metadata": {
            "tags": []
          },
          "execution_count": 51
        }
      ]
    },
    {
      "cell_type": "code",
      "metadata": {
        "colab_type": "code",
        "id": "y_vM_I9tydOM",
        "colab": {
          "base_uri": "https://localhost:8080/",
          "height": 69
        },
        "outputId": "704d4b62-2301-46cb-d286-1f0d40bf4569"
      },
      "source": [
        "# hispanic men and women\n",
        "rhisp2 = officer_random['subject_race'].str.contains(\"hispanic\")\n",
        "rhisp = officer_random[rhisp2]\n",
        "rhisp['subject_sex'].value_counts()"
      ],
      "execution_count": 52,
      "outputs": [
        {
          "output_type": "execute_result",
          "data": {
            "text/plain": [
              "male      52\n",
              "female    13\n",
              "Name: subject_sex, dtype: int64"
            ]
          },
          "metadata": {
            "tags": []
          },
          "execution_count": 52
        }
      ]
    },
    {
      "cell_type": "code",
      "metadata": {
        "colab_type": "code",
        "id": "RTS4tdcmydOP",
        "colab": {
          "base_uri": "https://localhost:8080/",
          "height": 69
        },
        "outputId": "ceaa6138-6709-47a7-838e-508257e30a1e"
      },
      "source": [
        "# other men and women\n",
        "rother2 = officer_random['subject_race'].str.contains(\"other\")\n",
        "rother = officer_random[rother2]\n",
        "rother['subject_sex'].value_counts()"
      ],
      "execution_count": 53,
      "outputs": [
        {
          "output_type": "execute_result",
          "data": {
            "text/plain": [
              "male      29\n",
              "female    10\n",
              "Name: subject_sex, dtype: int64"
            ]
          },
          "metadata": {
            "tags": []
          },
          "execution_count": 53
        }
      ]
    },
    {
      "cell_type": "code",
      "metadata": {
        "id": "L6Wu2sxtADj1",
        "colab_type": "code",
        "colab": {
          "base_uri": "https://localhost:8080/",
          "height": 956
        },
        "outputId": "4cc9dcb5-e14d-491c-8601-49e20d6cd03e"
      },
      "source": [
        "# need to find Officer R's 2010 data\n",
        "r2010 = officer_random['year']==2010.0\n",
        "officer_random2010 = officer_random[is2010]\n",
        "print(officer_random2010.shape)\n",
        "officer_random2010"
      ],
      "execution_count": 63,
      "outputs": [
        {
          "output_type": "stream",
          "text": [
            "(1579, 34)\n"
          ],
          "name": "stdout"
        },
        {
          "output_type": "stream",
          "text": [
            "/usr/local/lib/python3.6/dist-packages/ipykernel_launcher.py:2: UserWarning:\n",
            "\n",
            "Boolean Series key will be reindexed to match DataFrame index.\n",
            "\n"
          ],
          "name": "stderr"
        },
        {
          "output_type": "execute_result",
          "data": {
            "text/html": [
              "<div>\n",
              "<style scoped>\n",
              "    .dataframe tbody tr th:only-of-type {\n",
              "        vertical-align: middle;\n",
              "    }\n",
              "\n",
              "    .dataframe tbody tr th {\n",
              "        vertical-align: top;\n",
              "    }\n",
              "\n",
              "    .dataframe thead th {\n",
              "        text-align: right;\n",
              "    }\n",
              "</style>\n",
              "<table border=\"1\" class=\"dataframe\">\n",
              "  <thead>\n",
              "    <tr style=\"text-align: right;\">\n",
              "      <th></th>\n",
              "      <th>raw_row_number</th>\n",
              "      <th>date</th>\n",
              "      <th>location</th>\n",
              "      <th>county_name</th>\n",
              "      <th>subject_age</th>\n",
              "      <th>subject_race</th>\n",
              "      <th>subject_sex</th>\n",
              "      <th>officer_id_hash</th>\n",
              "      <th>officer_age</th>\n",
              "      <th>officer_race</th>\n",
              "      <th>department_id</th>\n",
              "      <th>type</th>\n",
              "      <th>violation</th>\n",
              "      <th>arrest_made</th>\n",
              "      <th>citation_issued</th>\n",
              "      <th>outcome</th>\n",
              "      <th>contraband_found</th>\n",
              "      <th>contraband_drugs</th>\n",
              "      <th>contraband_weapons</th>\n",
              "      <th>contraband_alcohol</th>\n",
              "      <th>contraband_other</th>\n",
              "      <th>search_conducted</th>\n",
              "      <th>search_person</th>\n",
              "      <th>search_vehicle</th>\n",
              "      <th>reason_for_stop</th>\n",
              "      <th>raw_contact_type</th>\n",
              "      <th>raw_sex</th>\n",
              "      <th>raw_race</th>\n",
              "      <th>raw_offensecode</th>\n",
              "      <th>raw_contrabanddesc</th>\n",
              "      <th>raw_officer_race</th>\n",
              "      <th>year</th>\n",
              "      <th>month</th>\n",
              "      <th>day</th>\n",
              "    </tr>\n",
              "  </thead>\n",
              "  <tbody>\n",
              "    <tr>\n",
              "      <th>4598</th>\n",
              "      <td>4599</td>\n",
              "      <td>2010-05-17</td>\n",
              "      <td>US Prmary 176</td>\n",
              "      <td>Richland County</td>\n",
              "      <td>27</td>\n",
              "      <td>black</td>\n",
              "      <td>male</td>\n",
              "      <td>6b458002e3</td>\n",
              "      <td>26</td>\n",
              "      <td>white</td>\n",
              "      <td>SCHP</td>\n",
              "      <td>vehicular</td>\n",
              "      <td>NaN</td>\n",
              "      <td>False</td>\n",
              "      <td>False</td>\n",
              "      <td>NaN</td>\n",
              "      <td>NaN</td>\n",
              "      <td>NaN</td>\n",
              "      <td>NaN</td>\n",
              "      <td>NaN</td>\n",
              "      <td>NaN</td>\n",
              "      <td>False</td>\n",
              "      <td>False</td>\n",
              "      <td>False</td>\n",
              "      <td>Violation Observed</td>\n",
              "      <td>Public Contact</td>\n",
              "      <td>M</td>\n",
              "      <td>Black</td>\n",
              "      <td>NaN</td>\n",
              "      <td>NaN</td>\n",
              "      <td>White</td>\n",
              "      <td>2010.0</td>\n",
              "      <td>5.0</td>\n",
              "      <td>17.0</td>\n",
              "    </tr>\n",
              "    <tr>\n",
              "      <th>7137</th>\n",
              "      <td>7138</td>\n",
              "      <td>2010-06-28</td>\n",
              "      <td>Secondary 31</td>\n",
              "      <td>Richland County</td>\n",
              "      <td>43</td>\n",
              "      <td>white</td>\n",
              "      <td>female</td>\n",
              "      <td>6b458002e3</td>\n",
              "      <td>26</td>\n",
              "      <td>white</td>\n",
              "      <td>SCHP</td>\n",
              "      <td>vehicular</td>\n",
              "      <td>56-5-6520 Other Violations</td>\n",
              "      <td>False</td>\n",
              "      <td>True</td>\n",
              "      <td>citation</td>\n",
              "      <td>NaN</td>\n",
              "      <td>NaN</td>\n",
              "      <td>NaN</td>\n",
              "      <td>NaN</td>\n",
              "      <td>NaN</td>\n",
              "      <td>False</td>\n",
              "      <td>False</td>\n",
              "      <td>False</td>\n",
              "      <td>Violation Observed</td>\n",
              "      <td>Citation</td>\n",
              "      <td>F</td>\n",
              "      <td>White</td>\n",
              "      <td>Other Violations</td>\n",
              "      <td>NaN</td>\n",
              "      <td>White</td>\n",
              "      <td>2010.0</td>\n",
              "      <td>6.0</td>\n",
              "      <td>28.0</td>\n",
              "    </tr>\n",
              "    <tr>\n",
              "      <th>14595</th>\n",
              "      <td>14596</td>\n",
              "      <td>2010-10-04</td>\n",
              "      <td>Interstate 77</td>\n",
              "      <td>Richland County</td>\n",
              "      <td>27</td>\n",
              "      <td>white</td>\n",
              "      <td>male</td>\n",
              "      <td>6b458002e3</td>\n",
              "      <td>26</td>\n",
              "      <td>white</td>\n",
              "      <td>SCHP</td>\n",
              "      <td>vehicular</td>\n",
              "      <td>NaN</td>\n",
              "      <td>False</td>\n",
              "      <td>False</td>\n",
              "      <td>NaN</td>\n",
              "      <td>NaN</td>\n",
              "      <td>NaN</td>\n",
              "      <td>NaN</td>\n",
              "      <td>NaN</td>\n",
              "      <td>NaN</td>\n",
              "      <td>False</td>\n",
              "      <td>False</td>\n",
              "      <td>False</td>\n",
              "      <td>Violation Observed</td>\n",
              "      <td>Public Contact</td>\n",
              "      <td>M</td>\n",
              "      <td>White</td>\n",
              "      <td>NaN</td>\n",
              "      <td>NaN</td>\n",
              "      <td>White</td>\n",
              "      <td>2010.0</td>\n",
              "      <td>10.0</td>\n",
              "      <td>4.0</td>\n",
              "    </tr>\n",
              "    <tr>\n",
              "      <th>14596</th>\n",
              "      <td>14597</td>\n",
              "      <td>2010-04-09</td>\n",
              "      <td>Secondary 1036</td>\n",
              "      <td>Richland County</td>\n",
              "      <td>19</td>\n",
              "      <td>black</td>\n",
              "      <td>female</td>\n",
              "      <td>6b458002e3</td>\n",
              "      <td>26</td>\n",
              "      <td>white</td>\n",
              "      <td>SCHP</td>\n",
              "      <td>vehicular</td>\n",
              "      <td>56-5-2320 No Right of Way</td>\n",
              "      <td>False</td>\n",
              "      <td>True</td>\n",
              "      <td>citation</td>\n",
              "      <td>NaN</td>\n",
              "      <td>NaN</td>\n",
              "      <td>NaN</td>\n",
              "      <td>NaN</td>\n",
              "      <td>NaN</td>\n",
              "      <td>False</td>\n",
              "      <td>False</td>\n",
              "      <td>False</td>\n",
              "      <td>Collision</td>\n",
              "      <td>Citation</td>\n",
              "      <td>F</td>\n",
              "      <td>Black</td>\n",
              "      <td>No Right of Way</td>\n",
              "      <td>NaN</td>\n",
              "      <td>White</td>\n",
              "      <td>2010.0</td>\n",
              "      <td>4.0</td>\n",
              "      <td>9.0</td>\n",
              "    </tr>\n",
              "    <tr>\n",
              "      <th>21404</th>\n",
              "      <td>21405</td>\n",
              "      <td>2010-05-13</td>\n",
              "      <td>US Prmary 176</td>\n",
              "      <td>Richland County</td>\n",
              "      <td>25</td>\n",
              "      <td>black</td>\n",
              "      <td>female</td>\n",
              "      <td>6b458002e3</td>\n",
              "      <td>26</td>\n",
              "      <td>white</td>\n",
              "      <td>SCHP</td>\n",
              "      <td>vehicular</td>\n",
              "      <td>56-5-6520 Other Violations</td>\n",
              "      <td>False</td>\n",
              "      <td>True</td>\n",
              "      <td>citation</td>\n",
              "      <td>NaN</td>\n",
              "      <td>NaN</td>\n",
              "      <td>NaN</td>\n",
              "      <td>NaN</td>\n",
              "      <td>NaN</td>\n",
              "      <td>False</td>\n",
              "      <td>False</td>\n",
              "      <td>False</td>\n",
              "      <td>Violation Observed</td>\n",
              "      <td>Citation</td>\n",
              "      <td>F</td>\n",
              "      <td>Black</td>\n",
              "      <td>Other Violations</td>\n",
              "      <td>NaN</td>\n",
              "      <td>White</td>\n",
              "      <td>2010.0</td>\n",
              "      <td>5.0</td>\n",
              "      <td>13.0</td>\n",
              "    </tr>\n",
              "    <tr>\n",
              "      <th>...</th>\n",
              "      <td>...</td>\n",
              "      <td>...</td>\n",
              "      <td>...</td>\n",
              "      <td>...</td>\n",
              "      <td>...</td>\n",
              "      <td>...</td>\n",
              "      <td>...</td>\n",
              "      <td>...</td>\n",
              "      <td>...</td>\n",
              "      <td>...</td>\n",
              "      <td>...</td>\n",
              "      <td>...</td>\n",
              "      <td>...</td>\n",
              "      <td>...</td>\n",
              "      <td>...</td>\n",
              "      <td>...</td>\n",
              "      <td>...</td>\n",
              "      <td>...</td>\n",
              "      <td>...</td>\n",
              "      <td>...</td>\n",
              "      <td>...</td>\n",
              "      <td>...</td>\n",
              "      <td>...</td>\n",
              "      <td>...</td>\n",
              "      <td>...</td>\n",
              "      <td>...</td>\n",
              "      <td>...</td>\n",
              "      <td>...</td>\n",
              "      <td>...</td>\n",
              "      <td>...</td>\n",
              "      <td>...</td>\n",
              "      <td>...</td>\n",
              "      <td>...</td>\n",
              "      <td>...</td>\n",
              "    </tr>\n",
              "    <tr>\n",
              "      <th>8927566</th>\n",
              "      <td>8927567</td>\n",
              "      <td>2010-08-27</td>\n",
              "      <td>Interstate 77</td>\n",
              "      <td>Richland County</td>\n",
              "      <td>26</td>\n",
              "      <td>white</td>\n",
              "      <td>male</td>\n",
              "      <td>6b458002e3</td>\n",
              "      <td>26</td>\n",
              "      <td>white</td>\n",
              "      <td>SCHP</td>\n",
              "      <td>vehicular</td>\n",
              "      <td>56-5-1520 Speeding or Too Fast For Conditions ...</td>\n",
              "      <td>False</td>\n",
              "      <td>True</td>\n",
              "      <td>citation</td>\n",
              "      <td>NaN</td>\n",
              "      <td>NaN</td>\n",
              "      <td>NaN</td>\n",
              "      <td>NaN</td>\n",
              "      <td>NaN</td>\n",
              "      <td>False</td>\n",
              "      <td>False</td>\n",
              "      <td>False</td>\n",
              "      <td>Violation Observed</td>\n",
              "      <td>Citation</td>\n",
              "      <td>M</td>\n",
              "      <td>White</td>\n",
              "      <td>Speeding or Too Fast For Conditions (-- m.p.h....</td>\n",
              "      <td>NaN</td>\n",
              "      <td>White</td>\n",
              "      <td>2010.0</td>\n",
              "      <td>8.0</td>\n",
              "      <td>27.0</td>\n",
              "    </tr>\n",
              "    <tr>\n",
              "      <th>8930378</th>\n",
              "      <td>8930379</td>\n",
              "      <td>2010-09-29</td>\n",
              "      <td>US Prmary 176</td>\n",
              "      <td>Richland County</td>\n",
              "      <td>66</td>\n",
              "      <td>white</td>\n",
              "      <td>female</td>\n",
              "      <td>6b458002e3</td>\n",
              "      <td>26</td>\n",
              "      <td>white</td>\n",
              "      <td>SCHP</td>\n",
              "      <td>vehicular</td>\n",
              "      <td>56-5-6520 Other Violations</td>\n",
              "      <td>False</td>\n",
              "      <td>True</td>\n",
              "      <td>citation</td>\n",
              "      <td>NaN</td>\n",
              "      <td>NaN</td>\n",
              "      <td>NaN</td>\n",
              "      <td>NaN</td>\n",
              "      <td>NaN</td>\n",
              "      <td>False</td>\n",
              "      <td>False</td>\n",
              "      <td>False</td>\n",
              "      <td>Violation Observed</td>\n",
              "      <td>Citation</td>\n",
              "      <td>F</td>\n",
              "      <td>White</td>\n",
              "      <td>Other Violations</td>\n",
              "      <td>NaN</td>\n",
              "      <td>White</td>\n",
              "      <td>2010.0</td>\n",
              "      <td>9.0</td>\n",
              "      <td>29.0</td>\n",
              "    </tr>\n",
              "    <tr>\n",
              "      <th>8945919</th>\n",
              "      <td>8945920</td>\n",
              "      <td>2010-10-23</td>\n",
              "      <td>Interstate 26</td>\n",
              "      <td>Richland County</td>\n",
              "      <td>46</td>\n",
              "      <td>white</td>\n",
              "      <td>female</td>\n",
              "      <td>6b458002e3</td>\n",
              "      <td>26</td>\n",
              "      <td>white</td>\n",
              "      <td>SCHP</td>\n",
              "      <td>vehicular</td>\n",
              "      <td>NaN</td>\n",
              "      <td>False</td>\n",
              "      <td>False</td>\n",
              "      <td>NaN</td>\n",
              "      <td>NaN</td>\n",
              "      <td>NaN</td>\n",
              "      <td>NaN</td>\n",
              "      <td>NaN</td>\n",
              "      <td>NaN</td>\n",
              "      <td>False</td>\n",
              "      <td>False</td>\n",
              "      <td>False</td>\n",
              "      <td>Violation Observed</td>\n",
              "      <td>Public Contact</td>\n",
              "      <td>F</td>\n",
              "      <td>White</td>\n",
              "      <td>NaN</td>\n",
              "      <td>NaN</td>\n",
              "      <td>White</td>\n",
              "      <td>2010.0</td>\n",
              "      <td>10.0</td>\n",
              "      <td>23.0</td>\n",
              "    </tr>\n",
              "    <tr>\n",
              "      <th>8962533</th>\n",
              "      <td>8962534</td>\n",
              "      <td>2010-08-23</td>\n",
              "      <td>US Prmary 176</td>\n",
              "      <td>Richland County</td>\n",
              "      <td>72</td>\n",
              "      <td>black</td>\n",
              "      <td>male</td>\n",
              "      <td>6b458002e3</td>\n",
              "      <td>26</td>\n",
              "      <td>white</td>\n",
              "      <td>SCHP</td>\n",
              "      <td>vehicular</td>\n",
              "      <td>56-5-1520 Speeding or Too Fast For Conditions ...</td>\n",
              "      <td>False</td>\n",
              "      <td>True</td>\n",
              "      <td>citation</td>\n",
              "      <td>NaN</td>\n",
              "      <td>NaN</td>\n",
              "      <td>NaN</td>\n",
              "      <td>NaN</td>\n",
              "      <td>NaN</td>\n",
              "      <td>False</td>\n",
              "      <td>False</td>\n",
              "      <td>False</td>\n",
              "      <td>Violation Observed</td>\n",
              "      <td>Citation</td>\n",
              "      <td>M</td>\n",
              "      <td>Black</td>\n",
              "      <td>Speeding or Too Fast For Conditions (-- m.p.h....</td>\n",
              "      <td>NaN</td>\n",
              "      <td>White</td>\n",
              "      <td>2010.0</td>\n",
              "      <td>8.0</td>\n",
              "      <td>23.0</td>\n",
              "    </tr>\n",
              "    <tr>\n",
              "      <th>8963707</th>\n",
              "      <td>8963708</td>\n",
              "      <td>2010-01-15</td>\n",
              "      <td>SC Primary 48</td>\n",
              "      <td>Richland County</td>\n",
              "      <td>46</td>\n",
              "      <td>black</td>\n",
              "      <td>male</td>\n",
              "      <td>6b458002e3</td>\n",
              "      <td>26</td>\n",
              "      <td>white</td>\n",
              "      <td>SCHP</td>\n",
              "      <td>vehicular</td>\n",
              "      <td>56-5-2930 Driving Under the Influence</td>\n",
              "      <td>True</td>\n",
              "      <td>True</td>\n",
              "      <td>arrest</td>\n",
              "      <td>False</td>\n",
              "      <td>False</td>\n",
              "      <td>False</td>\n",
              "      <td>NaN</td>\n",
              "      <td>False</td>\n",
              "      <td>True</td>\n",
              "      <td>True</td>\n",
              "      <td>True</td>\n",
              "      <td>Violation Observed</td>\n",
              "      <td>Citation</td>\n",
              "      <td>M</td>\n",
              "      <td>Black</td>\n",
              "      <td>Driving Under the Influence</td>\n",
              "      <td>NaN</td>\n",
              "      <td>White</td>\n",
              "      <td>2010.0</td>\n",
              "      <td>1.0</td>\n",
              "      <td>15.0</td>\n",
              "    </tr>\n",
              "  </tbody>\n",
              "</table>\n",
              "<p>1579 rows × 34 columns</p>\n",
              "</div>"
            ],
            "text/plain": [
              "         raw_row_number       date        location  ...    year month   day\n",
              "4598               4599 2010-05-17   US Prmary 176  ...  2010.0   5.0  17.0\n",
              "7137               7138 2010-06-28    Secondary 31  ...  2010.0   6.0  28.0\n",
              "14595             14596 2010-10-04   Interstate 77  ...  2010.0  10.0   4.0\n",
              "14596             14597 2010-04-09  Secondary 1036  ...  2010.0   4.0   9.0\n",
              "21404             21405 2010-05-13   US Prmary 176  ...  2010.0   5.0  13.0\n",
              "...                 ...        ...             ...  ...     ...   ...   ...\n",
              "8927566         8927567 2010-08-27   Interstate 77  ...  2010.0   8.0  27.0\n",
              "8930378         8930379 2010-09-29   US Prmary 176  ...  2010.0   9.0  29.0\n",
              "8945919         8945920 2010-10-23   Interstate 26  ...  2010.0  10.0  23.0\n",
              "8962533         8962534 2010-08-23   US Prmary 176  ...  2010.0   8.0  23.0\n",
              "8963707         8963708 2010-01-15   SC Primary 48  ...  2010.0   1.0  15.0\n",
              "\n",
              "[1579 rows x 34 columns]"
            ]
          },
          "metadata": {
            "tags": []
          },
          "execution_count": 63
        }
      ]
    },
    {
      "cell_type": "code",
      "metadata": {
        "id": "WFhVXseb-UBI",
        "colab_type": "code",
        "colab": {}
      },
      "source": [
        "######## comparing 2010 gender/racial arrest demographics of Officer X and the state"
      ],
      "execution_count": null,
      "outputs": []
    },
    {
      "cell_type": "code",
      "metadata": {
        "id": "SKpeGjOrCvGt",
        "colab_type": "code",
        "colab": {
          "base_uri": "https://localhost:8080/",
          "height": 242
        },
        "outputId": "15797c45-2104-44c9-9e06-c8fc57469a60"
      },
      "source": [
        "print(\"Officer X: \\n\", officer_main2010['subject_race'].value_counts())\n",
        "print(\"Statewide: \\n\", y2010['subject_race'].value_counts())"
      ],
      "execution_count": 79,
      "outputs": [
        {
          "output_type": "stream",
          "text": [
            "Officer X: \n",
            " white       1885\n",
            "black       1166\n",
            "other         45\n",
            "hispanic      37\n",
            "Name: subject_race, dtype: int64\n",
            "Statewide: \n",
            " white       539510\n",
            "black       268967\n",
            "hispanic     34435\n",
            "other         8901\n",
            "unknown        235\n",
            "Name: subject_race, dtype: int64\n"
          ],
          "name": "stdout"
        }
      ]
    },
    {
      "cell_type": "code",
      "metadata": {
        "id": "Iw78CTWuJdkr",
        "colab_type": "code",
        "colab": {
          "base_uri": "https://localhost:8080/",
          "height": 34
        },
        "outputId": "48af57bd-a937-4ed5-ad1d-3d6c952df0d0"
      },
      "source": [
        "# len statewide 2010 data\n",
        "y2010['officer_id_hash'].nunique()"
      ],
      "execution_count": 120,
      "outputs": [
        {
          "output_type": "execute_result",
          "data": {
            "text/plain": [
              "983"
            ]
          },
          "metadata": {
            "tags": []
          },
          "execution_count": 120
        }
      ]
    },
    {
      "cell_type": "code",
      "metadata": {
        "id": "UDqWwizOHlMh",
        "colab_type": "code",
        "colab": {
          "base_uri": "https://localhost:8080/",
          "height": 69
        },
        "outputId": "2cb61073-2b3f-4e06-ec5d-b500cec64c8a"
      },
      "source": [
        "print(officer_main2010.shape)\n",
        "print(y2010.shape)"
      ],
      "execution_count": 82,
      "outputs": [
        {
          "output_type": "stream",
          "text": [
            "(3133, 34)\n",
            "(1579, 34)\n",
            "(852048, 34)\n"
          ],
          "name": "stdout"
        }
      ]
    },
    {
      "cell_type": "code",
      "metadata": {
        "id": "gPwa-L9tTnVh",
        "colab_type": "code",
        "colab": {
          "base_uri": "https://localhost:8080/",
          "height": 34
        },
        "outputId": "b744b2de-e3f9-421f-f69c-f9c33dabc616"
      },
      "source": [
        "# mean of statewide 2010 data\n",
        "852048 / 983"
      ],
      "execution_count": 121,
      "outputs": [
        {
          "output_type": "execute_result",
          "data": {
            "text/plain": [
              "866.7833163784334"
            ]
          },
          "metadata": {
            "tags": []
          },
          "execution_count": 121
        }
      ]
    },
    {
      "cell_type": "code",
      "metadata": {
        "id": "8pOtjSqgHAbt",
        "colab_type": "code",
        "colab": {
          "base_uri": "https://localhost:8080/",
          "height": 542
        },
        "outputId": "70a6414f-cbe9-45be-f196-ead65ad27b30"
      },
      "source": [
        "# Gotta plot my findings!\n",
        "\n",
        "fig = go.Figure(data=go.Scatter(\n",
        "    x=[0, 1],\n",
        "    y=[3133, 866.78],\n",
        "    mode='markers',\n",
        "    marker=dict(size=[80, 80],\n",
        "                color=['#2980B9', 'yellow'])\n",
        "))\n",
        "\n",
        "fig.update_layout(title_text=\"<b>2010 arrest comparisons</b>\",\n",
        "                  xaxis_title=\"<b>Population</b>\",\n",
        "                  yaxis_title=\"<b>Arrests average</b>\",\n",
        "                  font=dict(family=\"Courier New, monospace\", size=14,\n",
        "                  color=\"Black\"), legend=dict(yanchor=\"top\",\n",
        "                                              y=0.1, xanchor=\"left\",\n",
        "                                              x=0.7, font=dict(family=\"Courier\",\n",
        "                                                               size=30, color=\"black\")),\n",
        "                  xaxis = dict(tickmode = 'array', tickvals = [0, 1],\n",
        "                               ticktext = ['Officer X', 'Statewide']))\n",
        "          \n",
        "#)\n",
        "fig.write_image(\"bw_graph2.png\")\n",
        "                  \n",
        "fig.show()"
      ],
      "execution_count": 129,
      "outputs": [
        {
          "output_type": "display_data",
          "data": {
            "text/html": [
              "<html>\n",
              "<head><meta charset=\"utf-8\" /></head>\n",
              "<body>\n",
              "    <div>\n",
              "            <script src=\"https://cdnjs.cloudflare.com/ajax/libs/mathjax/2.7.5/MathJax.js?config=TeX-AMS-MML_SVG\"></script><script type=\"text/javascript\">if (window.MathJax) {MathJax.Hub.Config({SVG: {font: \"STIX-Web\"}});}</script>\n",
              "                <script type=\"text/javascript\">window.PlotlyConfig = {MathJaxConfig: 'local'};</script>\n",
              "        <script src=\"https://cdn.plot.ly/plotly-latest.min.js\"></script>    \n",
              "            <div id=\"ffeb819f-5a08-439d-932d-ca7dca9b4d44\" class=\"plotly-graph-div\" style=\"height:525px; width:100%;\"></div>\n",
              "            <script type=\"text/javascript\">\n",
              "                \n",
              "                    window.PLOTLYENV=window.PLOTLYENV || {};\n",
              "                    \n",
              "                if (document.getElementById(\"ffeb819f-5a08-439d-932d-ca7dca9b4d44\")) {\n",
              "                    Plotly.newPlot(\n",
              "                        'ffeb819f-5a08-439d-932d-ca7dca9b4d44',\n",
              "                        [{\"marker\": {\"color\": [\"#2980B9\", \"yellow\"], \"size\": [80, 80]}, \"mode\": \"markers\", \"type\": \"scatter\", \"x\": [0, 1], \"y\": [3133, 866.78]}],\n",
              "                        {\"font\": {\"color\": \"Black\", \"family\": \"Courier New, monospace\", \"size\": 14}, \"legend\": {\"font\": {\"color\": \"black\", \"family\": \"Courier\", \"size\": 30}, \"x\": 0.7, \"xanchor\": \"left\", \"y\": 0.1, \"yanchor\": \"top\"}, \"template\": {\"data\": {\"bar\": [{\"error_x\": {\"color\": \"#2a3f5f\"}, \"error_y\": {\"color\": \"#2a3f5f\"}, \"marker\": {\"line\": {\"color\": \"#E5ECF6\", \"width\": 0.5}}, \"type\": \"bar\"}], \"barpolar\": [{\"marker\": {\"line\": {\"color\": \"#E5ECF6\", \"width\": 0.5}}, \"type\": \"barpolar\"}], \"carpet\": [{\"aaxis\": {\"endlinecolor\": \"#2a3f5f\", \"gridcolor\": \"white\", \"linecolor\": \"white\", \"minorgridcolor\": \"white\", \"startlinecolor\": \"#2a3f5f\"}, \"baxis\": {\"endlinecolor\": \"#2a3f5f\", \"gridcolor\": \"white\", \"linecolor\": \"white\", \"minorgridcolor\": \"white\", \"startlinecolor\": \"#2a3f5f\"}, \"type\": \"carpet\"}], \"choropleth\": [{\"colorbar\": {\"outlinewidth\": 0, \"ticks\": \"\"}, \"type\": \"choropleth\"}], \"contour\": [{\"colorbar\": {\"outlinewidth\": 0, \"ticks\": \"\"}, \"colorscale\": [[0.0, \"#0d0887\"], [0.1111111111111111, \"#46039f\"], [0.2222222222222222, \"#7201a8\"], [0.3333333333333333, \"#9c179e\"], [0.4444444444444444, \"#bd3786\"], [0.5555555555555556, \"#d8576b\"], [0.6666666666666666, \"#ed7953\"], [0.7777777777777778, \"#fb9f3a\"], [0.8888888888888888, \"#fdca26\"], [1.0, \"#f0f921\"]], \"type\": \"contour\"}], \"contourcarpet\": [{\"colorbar\": {\"outlinewidth\": 0, \"ticks\": \"\"}, \"type\": \"contourcarpet\"}], \"heatmap\": [{\"colorbar\": {\"outlinewidth\": 0, \"ticks\": \"\"}, \"colorscale\": [[0.0, \"#0d0887\"], [0.1111111111111111, \"#46039f\"], [0.2222222222222222, \"#7201a8\"], [0.3333333333333333, \"#9c179e\"], [0.4444444444444444, \"#bd3786\"], [0.5555555555555556, \"#d8576b\"], [0.6666666666666666, \"#ed7953\"], [0.7777777777777778, \"#fb9f3a\"], [0.8888888888888888, \"#fdca26\"], [1.0, \"#f0f921\"]], \"type\": \"heatmap\"}], \"heatmapgl\": [{\"colorbar\": {\"outlinewidth\": 0, \"ticks\": \"\"}, \"colorscale\": [[0.0, \"#0d0887\"], [0.1111111111111111, \"#46039f\"], [0.2222222222222222, \"#7201a8\"], [0.3333333333333333, \"#9c179e\"], [0.4444444444444444, \"#bd3786\"], [0.5555555555555556, \"#d8576b\"], [0.6666666666666666, \"#ed7953\"], [0.7777777777777778, \"#fb9f3a\"], [0.8888888888888888, \"#fdca26\"], [1.0, \"#f0f921\"]], \"type\": \"heatmapgl\"}], \"histogram\": [{\"marker\": {\"colorbar\": {\"outlinewidth\": 0, \"ticks\": \"\"}}, \"type\": \"histogram\"}], \"histogram2d\": [{\"colorbar\": {\"outlinewidth\": 0, \"ticks\": \"\"}, \"colorscale\": [[0.0, \"#0d0887\"], [0.1111111111111111, \"#46039f\"], [0.2222222222222222, \"#7201a8\"], [0.3333333333333333, \"#9c179e\"], [0.4444444444444444, \"#bd3786\"], [0.5555555555555556, \"#d8576b\"], [0.6666666666666666, \"#ed7953\"], [0.7777777777777778, \"#fb9f3a\"], [0.8888888888888888, \"#fdca26\"], [1.0, \"#f0f921\"]], \"type\": \"histogram2d\"}], \"histogram2dcontour\": [{\"colorbar\": {\"outlinewidth\": 0, \"ticks\": \"\"}, \"colorscale\": [[0.0, \"#0d0887\"], [0.1111111111111111, \"#46039f\"], [0.2222222222222222, \"#7201a8\"], [0.3333333333333333, \"#9c179e\"], [0.4444444444444444, \"#bd3786\"], [0.5555555555555556, \"#d8576b\"], [0.6666666666666666, \"#ed7953\"], [0.7777777777777778, \"#fb9f3a\"], [0.8888888888888888, \"#fdca26\"], [1.0, \"#f0f921\"]], \"type\": \"histogram2dcontour\"}], \"mesh3d\": [{\"colorbar\": {\"outlinewidth\": 0, \"ticks\": \"\"}, \"type\": \"mesh3d\"}], \"parcoords\": [{\"line\": {\"colorbar\": {\"outlinewidth\": 0, \"ticks\": \"\"}}, \"type\": \"parcoords\"}], \"pie\": [{\"automargin\": true, \"type\": \"pie\"}], \"scatter\": [{\"marker\": {\"colorbar\": {\"outlinewidth\": 0, \"ticks\": \"\"}}, \"type\": \"scatter\"}], \"scatter3d\": [{\"line\": {\"colorbar\": {\"outlinewidth\": 0, \"ticks\": \"\"}}, \"marker\": {\"colorbar\": {\"outlinewidth\": 0, \"ticks\": \"\"}}, \"type\": \"scatter3d\"}], \"scattercarpet\": [{\"marker\": {\"colorbar\": {\"outlinewidth\": 0, \"ticks\": \"\"}}, \"type\": \"scattercarpet\"}], \"scattergeo\": [{\"marker\": {\"colorbar\": {\"outlinewidth\": 0, \"ticks\": \"\"}}, \"type\": \"scattergeo\"}], \"scattergl\": [{\"marker\": {\"colorbar\": {\"outlinewidth\": 0, \"ticks\": \"\"}}, \"type\": \"scattergl\"}], \"scattermapbox\": [{\"marker\": {\"colorbar\": {\"outlinewidth\": 0, \"ticks\": \"\"}}, \"type\": \"scattermapbox\"}], \"scatterpolar\": [{\"marker\": {\"colorbar\": {\"outlinewidth\": 0, \"ticks\": \"\"}}, \"type\": \"scatterpolar\"}], \"scatterpolargl\": [{\"marker\": {\"colorbar\": {\"outlinewidth\": 0, \"ticks\": \"\"}}, \"type\": \"scatterpolargl\"}], \"scatterternary\": [{\"marker\": {\"colorbar\": {\"outlinewidth\": 0, \"ticks\": \"\"}}, \"type\": \"scatterternary\"}], \"surface\": [{\"colorbar\": {\"outlinewidth\": 0, \"ticks\": \"\"}, \"colorscale\": [[0.0, \"#0d0887\"], [0.1111111111111111, \"#46039f\"], [0.2222222222222222, \"#7201a8\"], [0.3333333333333333, \"#9c179e\"], [0.4444444444444444, \"#bd3786\"], [0.5555555555555556, \"#d8576b\"], [0.6666666666666666, \"#ed7953\"], [0.7777777777777778, \"#fb9f3a\"], [0.8888888888888888, \"#fdca26\"], [1.0, \"#f0f921\"]], \"type\": \"surface\"}], \"table\": [{\"cells\": {\"fill\": {\"color\": \"#EBF0F8\"}, \"line\": {\"color\": \"white\"}}, \"header\": {\"fill\": {\"color\": \"#C8D4E3\"}, \"line\": {\"color\": \"white\"}}, \"type\": \"table\"}]}, \"layout\": {\"annotationdefaults\": {\"arrowcolor\": \"#2a3f5f\", \"arrowhead\": 0, \"arrowwidth\": 1}, \"coloraxis\": {\"colorbar\": {\"outlinewidth\": 0, \"ticks\": \"\"}}, \"colorscale\": {\"diverging\": [[0, \"#8e0152\"], [0.1, \"#c51b7d\"], [0.2, \"#de77ae\"], [0.3, \"#f1b6da\"], [0.4, \"#fde0ef\"], [0.5, \"#f7f7f7\"], [0.6, \"#e6f5d0\"], [0.7, \"#b8e186\"], [0.8, \"#7fbc41\"], [0.9, \"#4d9221\"], [1, \"#276419\"]], \"sequential\": [[0.0, \"#0d0887\"], [0.1111111111111111, \"#46039f\"], [0.2222222222222222, \"#7201a8\"], [0.3333333333333333, \"#9c179e\"], [0.4444444444444444, \"#bd3786\"], [0.5555555555555556, \"#d8576b\"], [0.6666666666666666, \"#ed7953\"], [0.7777777777777778, \"#fb9f3a\"], [0.8888888888888888, \"#fdca26\"], [1.0, \"#f0f921\"]], \"sequentialminus\": [[0.0, \"#0d0887\"], [0.1111111111111111, \"#46039f\"], [0.2222222222222222, \"#7201a8\"], [0.3333333333333333, \"#9c179e\"], [0.4444444444444444, \"#bd3786\"], [0.5555555555555556, \"#d8576b\"], [0.6666666666666666, \"#ed7953\"], [0.7777777777777778, \"#fb9f3a\"], [0.8888888888888888, \"#fdca26\"], [1.0, \"#f0f921\"]]}, \"colorway\": [\"#636efa\", \"#EF553B\", \"#00cc96\", \"#ab63fa\", \"#FFA15A\", \"#19d3f3\", \"#FF6692\", \"#B6E880\", \"#FF97FF\", \"#FECB52\"], \"font\": {\"color\": \"#2a3f5f\"}, \"geo\": {\"bgcolor\": \"white\", \"lakecolor\": \"white\", \"landcolor\": \"#E5ECF6\", \"showlakes\": true, \"showland\": true, \"subunitcolor\": \"white\"}, \"hoverlabel\": {\"align\": \"left\"}, \"hovermode\": \"closest\", \"mapbox\": {\"style\": \"light\"}, \"paper_bgcolor\": \"white\", \"plot_bgcolor\": \"#E5ECF6\", \"polar\": {\"angularaxis\": {\"gridcolor\": \"white\", \"linecolor\": \"white\", \"ticks\": \"\"}, \"bgcolor\": \"#E5ECF6\", \"radialaxis\": {\"gridcolor\": \"white\", \"linecolor\": \"white\", \"ticks\": \"\"}}, \"scene\": {\"xaxis\": {\"backgroundcolor\": \"#E5ECF6\", \"gridcolor\": \"white\", \"gridwidth\": 2, \"linecolor\": \"white\", \"showbackground\": true, \"ticks\": \"\", \"zerolinecolor\": \"white\"}, \"yaxis\": {\"backgroundcolor\": \"#E5ECF6\", \"gridcolor\": \"white\", \"gridwidth\": 2, \"linecolor\": \"white\", \"showbackground\": true, \"ticks\": \"\", \"zerolinecolor\": \"white\"}, \"zaxis\": {\"backgroundcolor\": \"#E5ECF6\", \"gridcolor\": \"white\", \"gridwidth\": 2, \"linecolor\": \"white\", \"showbackground\": true, \"ticks\": \"\", \"zerolinecolor\": \"white\"}}, \"shapedefaults\": {\"line\": {\"color\": \"#2a3f5f\"}}, \"ternary\": {\"aaxis\": {\"gridcolor\": \"white\", \"linecolor\": \"white\", \"ticks\": \"\"}, \"baxis\": {\"gridcolor\": \"white\", \"linecolor\": \"white\", \"ticks\": \"\"}, \"bgcolor\": \"#E5ECF6\", \"caxis\": {\"gridcolor\": \"white\", \"linecolor\": \"white\", \"ticks\": \"\"}}, \"title\": {\"x\": 0.05}, \"xaxis\": {\"automargin\": true, \"gridcolor\": \"white\", \"linecolor\": \"white\", \"ticks\": \"\", \"title\": {\"standoff\": 15}, \"zerolinecolor\": \"white\", \"zerolinewidth\": 2}, \"yaxis\": {\"automargin\": true, \"gridcolor\": \"white\", \"linecolor\": \"white\", \"ticks\": \"\", \"title\": {\"standoff\": 15}, \"zerolinecolor\": \"white\", \"zerolinewidth\": 2}}}, \"title\": {\"text\": \"<b>2010 arrest comparisons</b>\"}, \"xaxis\": {\"tickmode\": \"array\", \"ticktext\": [\"Officer X\", \"Statewide\"], \"tickvals\": [0, 1], \"title\": {\"text\": \"<b>Population</b>\"}}, \"yaxis\": {\"title\": {\"text\": \"<b>Arrests average</b>\"}}},\n",
              "                        {\"responsive\": true}\n",
              "                    ).then(function(){\n",
              "                            \n",
              "var gd = document.getElementById('ffeb819f-5a08-439d-932d-ca7dca9b4d44');\n",
              "var x = new MutationObserver(function (mutations, observer) {{\n",
              "        var display = window.getComputedStyle(gd).display;\n",
              "        if (!display || display === 'none') {{\n",
              "            console.log([gd, 'removed!']);\n",
              "            Plotly.purge(gd);\n",
              "            observer.disconnect();\n",
              "        }}\n",
              "}});\n",
              "\n",
              "// Listen for the removal of the full notebook cells\n",
              "var notebookContainer = gd.closest('#notebook-container');\n",
              "if (notebookContainer) {{\n",
              "    x.observe(notebookContainer, {childList: true});\n",
              "}}\n",
              "\n",
              "// Listen for the clearing of the current output cell\n",
              "var outputEl = gd.closest('.output');\n",
              "if (outputEl) {{\n",
              "    x.observe(outputEl, {childList: true});\n",
              "}}\n",
              "\n",
              "                        })\n",
              "                };\n",
              "                \n",
              "            </script>\n",
              "        </div>\n",
              "</body>\n",
              "</html>"
            ]
          },
          "metadata": {
            "tags": []
          }
        }
      ]
    },
    {
      "cell_type": "code",
      "metadata": {
        "id": "ZQ-CDr3ZNLDy",
        "colab_type": "code",
        "colab": {
          "base_uri": "https://localhost:8080/",
          "height": 17
        },
        "outputId": "a2a4de81-7e5c-49f1-cf25-229eb38a7411"
      },
      "source": [
        "from google.colab import files\n",
        "files.download('bw_graph2.png')"
      ],
      "execution_count": 130,
      "outputs": [
        {
          "output_type": "display_data",
          "data": {
            "application/javascript": [
              "\n",
              "    async function download(id, filename, size) {\n",
              "      if (!google.colab.kernel.accessAllowed) {\n",
              "        return;\n",
              "      }\n",
              "      const div = document.createElement('div');\n",
              "      const label = document.createElement('label');\n",
              "      label.textContent = `Downloading \"${filename}\": `;\n",
              "      div.appendChild(label);\n",
              "      const progress = document.createElement('progress');\n",
              "      progress.max = size;\n",
              "      div.appendChild(progress);\n",
              "      document.body.appendChild(div);\n",
              "\n",
              "      const buffers = [];\n",
              "      let downloaded = 0;\n",
              "\n",
              "      const channel = await google.colab.kernel.comms.open(id);\n",
              "      // Send a message to notify the kernel that we're ready.\n",
              "      channel.send({})\n",
              "\n",
              "      for await (const message of channel.messages) {\n",
              "        // Send a message to notify the kernel that we're ready.\n",
              "        channel.send({})\n",
              "        if (message.buffers) {\n",
              "          for (const buffer of message.buffers) {\n",
              "            buffers.push(buffer);\n",
              "            downloaded += buffer.byteLength;\n",
              "            progress.value = downloaded;\n",
              "          }\n",
              "        }\n",
              "      }\n",
              "      const blob = new Blob(buffers, {type: 'application/binary'});\n",
              "      const a = document.createElement('a');\n",
              "      a.href = window.URL.createObjectURL(blob);\n",
              "      a.download = filename;\n",
              "      div.appendChild(a);\n",
              "      a.click();\n",
              "      div.remove();\n",
              "    }\n",
              "  "
            ],
            "text/plain": [
              "<IPython.core.display.Javascript object>"
            ]
          },
          "metadata": {
            "tags": []
          }
        },
        {
          "output_type": "display_data",
          "data": {
            "application/javascript": [
              "download(\"download_81af2a57-acb6-4335-a2ef-191a4341224e\", \"bw_graph2.png\", 34331)"
            ],
            "text/plain": [
              "<IPython.core.display.Javascript object>"
            ]
          },
          "metadata": {
            "tags": []
          }
        }
      ]
    }
  ]
}